{
  "nbformat": 4,
  "nbformat_minor": 0,
  "metadata": {
    "colab": {
      "name": "STACKOVERFLOW DATA ANALYSIS.ipynb",
      "provenance": [],
      "toc_visible": true
    },
    "kernelspec": {
      "display_name": "Python 3",
      "language": "python",
      "name": "python3"
    },
    "language_info": {
      "codemirror_mode": {
        "name": "ipython",
        "version": 3
      },
      "file_extension": ".py",
      "mimetype": "text/x-python",
      "name": "python",
      "nbconvert_exporter": "python",
      "pygments_lexer": "ipython3",
      "version": "3.6.8"
    }
  },
  "cells": [
    {
      "cell_type": "markdown",
      "metadata": {
        "id": "M7xTBmdUvPId"
      },
      "source": [
        "# **What is Stack Overflow ?**\n",
        "Stack Overflow is a website which features questions and answers on a wide range of topics for professional and enthusiast programmers. The website serves as a platform for users to ask and answer questions, and, through membership and active participation, to vote questions and answers up or down and edit questions and answers in a fashion similar to a wiki or Reddit. Closing questions is a main differentiation from other Q&A sites like Yahoo! Answers and a way to prevent low quality questions.\n",
        "\n",
        "As of March 2021 Stack Overflow has over 14 million registered users, and has received over 21 million questions and 31 million answers.Based on the type of tags assigned to questions, the top eight most discussed topics on the site are: JavaScript, Java, C#, PHP, Android, Python, jQuery, and HTML.\n",
        "\n",
        "Stack Overflow also has a Jobs section to assist developers in finding their next opportunity. For employers, Stack Overflow provides tools to brand their business, advertise their openings on the site, and source candidates from Stack Overflow's database of developers who are open to being contacted."
      ]
    },
    {
      "cell_type": "markdown",
      "metadata": {
        "id": "o0_6XjWmOD0n"
      },
      "source": [
        "## **SURVEY**\n",
        "The survey gathers information regarding the basic information of a person like education, work, career and also technology stacks and work culture. Information related to the usage of the Stack Overflow platform is also captured. The survey finishes with a few questions related to the survey itself.\n"
      ]
    },
    {
      "cell_type": "markdown",
      "metadata": {
        "id": "xcsjJuk8YE0Q"
      },
      "source": [
        "# **Analysis**"
      ]
    },
    {
      "cell_type": "code",
      "metadata": {
        "id": "v2X2HVLrvPIp"
      },
      "source": [
        "import pandas as pd\n",
        "import numpy as np\n",
        "import matplotlib.pyplot as plt\n",
        "import seaborn as sns"
      ],
      "execution_count": null,
      "outputs": []
    },
    {
      "cell_type": "code",
      "metadata": {
        "colab": {
          "base_uri": "https://localhost:8080/"
        },
        "id": "sTarO26PwT7D",
        "outputId": "232594b5-75fc-4c08-f409-81b8109cd8b5"
      },
      "source": [
        "from google.colab import drive\n",
        "drive.mount('/content/drive')"
      ],
      "execution_count": null,
      "outputs": [
        {
          "output_type": "stream",
          "text": [
            "Mounted at /content/drive\n"
          ],
          "name": "stdout"
        }
      ]
    },
    {
      "cell_type": "code",
      "metadata": {
        "id": "tQn2HQvrwabL"
      },
      "source": [
        "df = pd.read_csv('/content/drive/MyDrive/Coding/Datasets/StackOverflow Developer Survey/survey_results_public.csv')"
      ],
      "execution_count": null,
      "outputs": []
    },
    {
      "cell_type": "code",
      "metadata": {
        "colab": {
          "base_uri": "https://localhost:8080/",
          "height": 589
        },
        "id": "uY5J_H7mvPIr",
        "outputId": "21cdc6d9-3fc2-4df3-9dcf-f6c369becd1a"
      },
      "source": [
        "pd.set_option('display.max_columns', None)\n",
        "df.head(4)"
      ],
      "execution_count": null,
      "outputs": [
        {
          "output_type": "execute_result",
          "data": {
            "text/html": [
              "<div>\n",
              "<style scoped>\n",
              "    .dataframe tbody tr th:only-of-type {\n",
              "        vertical-align: middle;\n",
              "    }\n",
              "\n",
              "    .dataframe tbody tr th {\n",
              "        vertical-align: top;\n",
              "    }\n",
              "\n",
              "    .dataframe thead th {\n",
              "        text-align: right;\n",
              "    }\n",
              "</style>\n",
              "<table border=\"1\" class=\"dataframe\">\n",
              "  <thead>\n",
              "    <tr style=\"text-align: right;\">\n",
              "      <th></th>\n",
              "      <th>Respondent</th>\n",
              "      <th>MainBranch</th>\n",
              "      <th>Hobbyist</th>\n",
              "      <th>OpenSourcer</th>\n",
              "      <th>OpenSource</th>\n",
              "      <th>Employment</th>\n",
              "      <th>Country</th>\n",
              "      <th>Student</th>\n",
              "      <th>EdLevel</th>\n",
              "      <th>UndergradMajor</th>\n",
              "      <th>EduOther</th>\n",
              "      <th>OrgSize</th>\n",
              "      <th>DevType</th>\n",
              "      <th>YearsCode</th>\n",
              "      <th>Age1stCode</th>\n",
              "      <th>YearsCodePro</th>\n",
              "      <th>CareerSat</th>\n",
              "      <th>JobSat</th>\n",
              "      <th>MgrIdiot</th>\n",
              "      <th>MgrMoney</th>\n",
              "      <th>MgrWant</th>\n",
              "      <th>JobSeek</th>\n",
              "      <th>LastHireDate</th>\n",
              "      <th>LastInt</th>\n",
              "      <th>FizzBuzz</th>\n",
              "      <th>JobFactors</th>\n",
              "      <th>ResumeUpdate</th>\n",
              "      <th>CurrencySymbol</th>\n",
              "      <th>CurrencyDesc</th>\n",
              "      <th>CompTotal</th>\n",
              "      <th>CompFreq</th>\n",
              "      <th>ConvertedComp</th>\n",
              "      <th>WorkWeekHrs</th>\n",
              "      <th>WorkPlan</th>\n",
              "      <th>WorkChallenge</th>\n",
              "      <th>WorkRemote</th>\n",
              "      <th>WorkLoc</th>\n",
              "      <th>ImpSyn</th>\n",
              "      <th>CodeRev</th>\n",
              "      <th>CodeRevHrs</th>\n",
              "      <th>UnitTests</th>\n",
              "      <th>PurchaseHow</th>\n",
              "      <th>PurchaseWhat</th>\n",
              "      <th>LanguageWorkedWith</th>\n",
              "      <th>LanguageDesireNextYear</th>\n",
              "      <th>DatabaseWorkedWith</th>\n",
              "      <th>DatabaseDesireNextYear</th>\n",
              "      <th>PlatformWorkedWith</th>\n",
              "      <th>PlatformDesireNextYear</th>\n",
              "      <th>WebFrameWorkedWith</th>\n",
              "      <th>WebFrameDesireNextYear</th>\n",
              "      <th>MiscTechWorkedWith</th>\n",
              "      <th>MiscTechDesireNextYear</th>\n",
              "      <th>DevEnviron</th>\n",
              "      <th>OpSys</th>\n",
              "      <th>Containers</th>\n",
              "      <th>BlockchainOrg</th>\n",
              "      <th>BlockchainIs</th>\n",
              "      <th>BetterLife</th>\n",
              "      <th>ITperson</th>\n",
              "      <th>OffOn</th>\n",
              "      <th>SocialMedia</th>\n",
              "      <th>Extraversion</th>\n",
              "      <th>ScreenName</th>\n",
              "      <th>SOVisit1st</th>\n",
              "      <th>SOVisitFreq</th>\n",
              "      <th>SOVisitTo</th>\n",
              "      <th>SOFindAnswer</th>\n",
              "      <th>SOTimeSaved</th>\n",
              "      <th>SOHowMuchTime</th>\n",
              "      <th>SOAccount</th>\n",
              "      <th>SOPartFreq</th>\n",
              "      <th>SOJobs</th>\n",
              "      <th>EntTeams</th>\n",
              "      <th>SOComm</th>\n",
              "      <th>WelcomeChange</th>\n",
              "      <th>SONewContent</th>\n",
              "      <th>Age</th>\n",
              "      <th>Gender</th>\n",
              "      <th>Trans</th>\n",
              "      <th>Sexuality</th>\n",
              "      <th>Ethnicity</th>\n",
              "      <th>Dependents</th>\n",
              "      <th>SurveyLength</th>\n",
              "      <th>SurveyEase</th>\n",
              "    </tr>\n",
              "  </thead>\n",
              "  <tbody>\n",
              "    <tr>\n",
              "      <th>0</th>\n",
              "      <td>1</td>\n",
              "      <td>I am a student who is learning to code</td>\n",
              "      <td>Yes</td>\n",
              "      <td>Never</td>\n",
              "      <td>The quality of OSS and closed source software ...</td>\n",
              "      <td>Not employed, and not looking for work</td>\n",
              "      <td>United Kingdom</td>\n",
              "      <td>No</td>\n",
              "      <td>Primary/elementary school</td>\n",
              "      <td>NaN</td>\n",
              "      <td>Taught yourself a new language, framework, or ...</td>\n",
              "      <td>NaN</td>\n",
              "      <td>NaN</td>\n",
              "      <td>4</td>\n",
              "      <td>10</td>\n",
              "      <td>NaN</td>\n",
              "      <td>NaN</td>\n",
              "      <td>NaN</td>\n",
              "      <td>NaN</td>\n",
              "      <td>NaN</td>\n",
              "      <td>NaN</td>\n",
              "      <td>NaN</td>\n",
              "      <td>NaN</td>\n",
              "      <td>NaN</td>\n",
              "      <td>NaN</td>\n",
              "      <td>NaN</td>\n",
              "      <td>NaN</td>\n",
              "      <td>NaN</td>\n",
              "      <td>NaN</td>\n",
              "      <td>NaN</td>\n",
              "      <td>NaN</td>\n",
              "      <td>NaN</td>\n",
              "      <td>NaN</td>\n",
              "      <td>NaN</td>\n",
              "      <td>NaN</td>\n",
              "      <td>NaN</td>\n",
              "      <td>NaN</td>\n",
              "      <td>NaN</td>\n",
              "      <td>NaN</td>\n",
              "      <td>NaN</td>\n",
              "      <td>NaN</td>\n",
              "      <td>NaN</td>\n",
              "      <td>NaN</td>\n",
              "      <td>HTML/CSS;Java;JavaScript;Python</td>\n",
              "      <td>C;C++;C#;Go;HTML/CSS;Java;JavaScript;Python;SQL</td>\n",
              "      <td>SQLite</td>\n",
              "      <td>MySQL</td>\n",
              "      <td>MacOS;Windows</td>\n",
              "      <td>Android;Arduino;Windows</td>\n",
              "      <td>Django;Flask</td>\n",
              "      <td>Flask;jQuery</td>\n",
              "      <td>Node.js</td>\n",
              "      <td>Node.js</td>\n",
              "      <td>IntelliJ;Notepad++;PyCharm</td>\n",
              "      <td>Windows</td>\n",
              "      <td>I do not use containers</td>\n",
              "      <td>NaN</td>\n",
              "      <td>NaN</td>\n",
              "      <td>Yes</td>\n",
              "      <td>Fortunately, someone else has that title</td>\n",
              "      <td>Yes</td>\n",
              "      <td>Twitter</td>\n",
              "      <td>Online</td>\n",
              "      <td>Username</td>\n",
              "      <td>2017</td>\n",
              "      <td>A few times per month or weekly</td>\n",
              "      <td>Find answers to specific questions;Learn how t...</td>\n",
              "      <td>3-5 times per week</td>\n",
              "      <td>Stack Overflow was much faster</td>\n",
              "      <td>31-60 minutes</td>\n",
              "      <td>No</td>\n",
              "      <td>NaN</td>\n",
              "      <td>No, I didn't know that Stack Overflow had a jo...</td>\n",
              "      <td>No, and I don't know what those are</td>\n",
              "      <td>Neutral</td>\n",
              "      <td>Just as welcome now as I felt last year</td>\n",
              "      <td>Tech articles written by other developers;Indu...</td>\n",
              "      <td>14.0</td>\n",
              "      <td>Man</td>\n",
              "      <td>No</td>\n",
              "      <td>Straight / Heterosexual</td>\n",
              "      <td>NaN</td>\n",
              "      <td>No</td>\n",
              "      <td>Appropriate in length</td>\n",
              "      <td>Neither easy nor difficult</td>\n",
              "    </tr>\n",
              "    <tr>\n",
              "      <th>1</th>\n",
              "      <td>2</td>\n",
              "      <td>I am a student who is learning to code</td>\n",
              "      <td>No</td>\n",
              "      <td>Less than once per year</td>\n",
              "      <td>The quality of OSS and closed source software ...</td>\n",
              "      <td>Not employed, but looking for work</td>\n",
              "      <td>Bosnia and Herzegovina</td>\n",
              "      <td>Yes, full-time</td>\n",
              "      <td>Secondary school (e.g. American high school, G...</td>\n",
              "      <td>NaN</td>\n",
              "      <td>Taken an online course in programming or softw...</td>\n",
              "      <td>NaN</td>\n",
              "      <td>Developer, desktop or enterprise applications;...</td>\n",
              "      <td>NaN</td>\n",
              "      <td>17</td>\n",
              "      <td>NaN</td>\n",
              "      <td>NaN</td>\n",
              "      <td>NaN</td>\n",
              "      <td>NaN</td>\n",
              "      <td>NaN</td>\n",
              "      <td>NaN</td>\n",
              "      <td>I am actively looking for a job</td>\n",
              "      <td>I've never had a job</td>\n",
              "      <td>NaN</td>\n",
              "      <td>NaN</td>\n",
              "      <td>Financial performance or funding status of the...</td>\n",
              "      <td>Something else changed (education, award, medi...</td>\n",
              "      <td>NaN</td>\n",
              "      <td>NaN</td>\n",
              "      <td>NaN</td>\n",
              "      <td>NaN</td>\n",
              "      <td>NaN</td>\n",
              "      <td>NaN</td>\n",
              "      <td>NaN</td>\n",
              "      <td>NaN</td>\n",
              "      <td>NaN</td>\n",
              "      <td>NaN</td>\n",
              "      <td>NaN</td>\n",
              "      <td>NaN</td>\n",
              "      <td>NaN</td>\n",
              "      <td>NaN</td>\n",
              "      <td>NaN</td>\n",
              "      <td>NaN</td>\n",
              "      <td>C++;HTML/CSS;Python</td>\n",
              "      <td>C++;HTML/CSS;JavaScript;SQL</td>\n",
              "      <td>NaN</td>\n",
              "      <td>MySQL</td>\n",
              "      <td>Windows</td>\n",
              "      <td>Windows</td>\n",
              "      <td>Django</td>\n",
              "      <td>Django</td>\n",
              "      <td>NaN</td>\n",
              "      <td>NaN</td>\n",
              "      <td>Atom;PyCharm</td>\n",
              "      <td>Windows</td>\n",
              "      <td>I do not use containers</td>\n",
              "      <td>NaN</td>\n",
              "      <td>Useful across many domains and could change ma...</td>\n",
              "      <td>Yes</td>\n",
              "      <td>Yes</td>\n",
              "      <td>Yes</td>\n",
              "      <td>Instagram</td>\n",
              "      <td>Online</td>\n",
              "      <td>Username</td>\n",
              "      <td>2017</td>\n",
              "      <td>Daily or almost daily</td>\n",
              "      <td>Find answers to specific questions;Learn how t...</td>\n",
              "      <td>3-5 times per week</td>\n",
              "      <td>Stack Overflow was much faster</td>\n",
              "      <td>11-30 minutes</td>\n",
              "      <td>Yes</td>\n",
              "      <td>A few times per month or weekly</td>\n",
              "      <td>No, I knew that Stack Overflow had a job board...</td>\n",
              "      <td>No, and I don't know what those are</td>\n",
              "      <td>Yes, somewhat</td>\n",
              "      <td>Just as welcome now as I felt last year</td>\n",
              "      <td>Tech articles written by other developers;Indu...</td>\n",
              "      <td>19.0</td>\n",
              "      <td>Man</td>\n",
              "      <td>No</td>\n",
              "      <td>Straight / Heterosexual</td>\n",
              "      <td>NaN</td>\n",
              "      <td>No</td>\n",
              "      <td>Appropriate in length</td>\n",
              "      <td>Neither easy nor difficult</td>\n",
              "    </tr>\n",
              "    <tr>\n",
              "      <th>2</th>\n",
              "      <td>3</td>\n",
              "      <td>I am not primarily a developer, but I write co...</td>\n",
              "      <td>Yes</td>\n",
              "      <td>Never</td>\n",
              "      <td>The quality of OSS and closed source software ...</td>\n",
              "      <td>Employed full-time</td>\n",
              "      <td>Thailand</td>\n",
              "      <td>No</td>\n",
              "      <td>Bachelor’s degree (BA, BS, B.Eng., etc.)</td>\n",
              "      <td>Web development or web design</td>\n",
              "      <td>Taught yourself a new language, framework, or ...</td>\n",
              "      <td>100 to 499 employees</td>\n",
              "      <td>Designer;Developer, back-end;Developer, front-...</td>\n",
              "      <td>3</td>\n",
              "      <td>22</td>\n",
              "      <td>1</td>\n",
              "      <td>Slightly satisfied</td>\n",
              "      <td>Slightly satisfied</td>\n",
              "      <td>Not at all confident</td>\n",
              "      <td>Not sure</td>\n",
              "      <td>Not sure</td>\n",
              "      <td>I’m not actively looking, but I am open to new...</td>\n",
              "      <td>1-2 years ago</td>\n",
              "      <td>Interview with people in peer roles</td>\n",
              "      <td>No</td>\n",
              "      <td>Languages, frameworks, and other technologies ...</td>\n",
              "      <td>I was preparing for a job search</td>\n",
              "      <td>THB</td>\n",
              "      <td>Thai baht</td>\n",
              "      <td>23000.0</td>\n",
              "      <td>Monthly</td>\n",
              "      <td>8820.0</td>\n",
              "      <td>40.0</td>\n",
              "      <td>There's no schedule or spec; I work on what se...</td>\n",
              "      <td>Distracting work environment;Inadequate access...</td>\n",
              "      <td>Less than once per month / Never</td>\n",
              "      <td>Home</td>\n",
              "      <td>Average</td>\n",
              "      <td>No</td>\n",
              "      <td>NaN</td>\n",
              "      <td>No, but I think we should</td>\n",
              "      <td>Not sure</td>\n",
              "      <td>I have little or no influence</td>\n",
              "      <td>HTML/CSS</td>\n",
              "      <td>Elixir;HTML/CSS</td>\n",
              "      <td>PostgreSQL</td>\n",
              "      <td>PostgreSQL</td>\n",
              "      <td>NaN</td>\n",
              "      <td>NaN</td>\n",
              "      <td>NaN</td>\n",
              "      <td>Other(s):</td>\n",
              "      <td>NaN</td>\n",
              "      <td>NaN</td>\n",
              "      <td>Vim;Visual Studio Code</td>\n",
              "      <td>Linux-based</td>\n",
              "      <td>I do not use containers</td>\n",
              "      <td>NaN</td>\n",
              "      <td>NaN</td>\n",
              "      <td>Yes</td>\n",
              "      <td>Yes</td>\n",
              "      <td>Yes</td>\n",
              "      <td>Reddit</td>\n",
              "      <td>In real life (in person)</td>\n",
              "      <td>Username</td>\n",
              "      <td>2011</td>\n",
              "      <td>A few times per week</td>\n",
              "      <td>Find answers to specific questions;Learn how t...</td>\n",
              "      <td>6-10 times per week</td>\n",
              "      <td>They were about the same</td>\n",
              "      <td>NaN</td>\n",
              "      <td>Yes</td>\n",
              "      <td>Less than once per month or monthly</td>\n",
              "      <td>Yes</td>\n",
              "      <td>No, I've heard of them, but I am not part of a...</td>\n",
              "      <td>Neutral</td>\n",
              "      <td>Just as welcome now as I felt last year</td>\n",
              "      <td>Tech meetups or events in your area;Courses on...</td>\n",
              "      <td>28.0</td>\n",
              "      <td>Man</td>\n",
              "      <td>No</td>\n",
              "      <td>Straight / Heterosexual</td>\n",
              "      <td>NaN</td>\n",
              "      <td>Yes</td>\n",
              "      <td>Appropriate in length</td>\n",
              "      <td>Neither easy nor difficult</td>\n",
              "    </tr>\n",
              "    <tr>\n",
              "      <th>3</th>\n",
              "      <td>4</td>\n",
              "      <td>I am a developer by profession</td>\n",
              "      <td>No</td>\n",
              "      <td>Never</td>\n",
              "      <td>The quality of OSS and closed source software ...</td>\n",
              "      <td>Employed full-time</td>\n",
              "      <td>United States</td>\n",
              "      <td>No</td>\n",
              "      <td>Bachelor’s degree (BA, BS, B.Eng., etc.)</td>\n",
              "      <td>Computer science, computer engineering, or sof...</td>\n",
              "      <td>Taken an online course in programming or softw...</td>\n",
              "      <td>100 to 499 employees</td>\n",
              "      <td>Developer, full-stack</td>\n",
              "      <td>3</td>\n",
              "      <td>16</td>\n",
              "      <td>Less than 1 year</td>\n",
              "      <td>Very satisfied</td>\n",
              "      <td>Slightly satisfied</td>\n",
              "      <td>Very confident</td>\n",
              "      <td>No</td>\n",
              "      <td>Not sure</td>\n",
              "      <td>I am not interested in new job opportunities</td>\n",
              "      <td>Less than a year ago</td>\n",
              "      <td>Write code by hand (e.g., on a whiteboard);Int...</td>\n",
              "      <td>No</td>\n",
              "      <td>Languages, frameworks, and other technologies ...</td>\n",
              "      <td>I was preparing for a job search</td>\n",
              "      <td>USD</td>\n",
              "      <td>United States dollar</td>\n",
              "      <td>61000.0</td>\n",
              "      <td>Yearly</td>\n",
              "      <td>61000.0</td>\n",
              "      <td>80.0</td>\n",
              "      <td>There's no schedule or spec; I work on what se...</td>\n",
              "      <td>NaN</td>\n",
              "      <td>Less than once per month / Never</td>\n",
              "      <td>Home</td>\n",
              "      <td>A little below average</td>\n",
              "      <td>No</td>\n",
              "      <td>NaN</td>\n",
              "      <td>No, but I think we should</td>\n",
              "      <td>Developers typically have the most influence o...</td>\n",
              "      <td>I have little or no influence</td>\n",
              "      <td>C;C++;C#;Python;SQL</td>\n",
              "      <td>C;C#;JavaScript;SQL</td>\n",
              "      <td>MySQL;SQLite</td>\n",
              "      <td>MySQL;SQLite</td>\n",
              "      <td>Linux;Windows</td>\n",
              "      <td>Linux;Windows</td>\n",
              "      <td>NaN</td>\n",
              "      <td>NaN</td>\n",
              "      <td>.NET</td>\n",
              "      <td>.NET</td>\n",
              "      <td>Eclipse;Vim;Visual Studio;Visual Studio Code</td>\n",
              "      <td>Windows</td>\n",
              "      <td>I do not use containers</td>\n",
              "      <td>Not at all</td>\n",
              "      <td>Useful for decentralized currency (i.e., Bitcoin)</td>\n",
              "      <td>Yes</td>\n",
              "      <td>SIGH</td>\n",
              "      <td>Yes</td>\n",
              "      <td>Reddit</td>\n",
              "      <td>In real life (in person)</td>\n",
              "      <td>Username</td>\n",
              "      <td>2014</td>\n",
              "      <td>Daily or almost daily</td>\n",
              "      <td>Find answers to specific questions;Pass the ti...</td>\n",
              "      <td>1-2 times per week</td>\n",
              "      <td>Stack Overflow was much faster</td>\n",
              "      <td>31-60 minutes</td>\n",
              "      <td>Yes</td>\n",
              "      <td>Less than once per month or monthly</td>\n",
              "      <td>Yes</td>\n",
              "      <td>No, and I don't know what those are</td>\n",
              "      <td>No, not really</td>\n",
              "      <td>Just as welcome now as I felt last year</td>\n",
              "      <td>Tech articles written by other developers;Indu...</td>\n",
              "      <td>22.0</td>\n",
              "      <td>Man</td>\n",
              "      <td>No</td>\n",
              "      <td>Straight / Heterosexual</td>\n",
              "      <td>White or of European descent</td>\n",
              "      <td>No</td>\n",
              "      <td>Appropriate in length</td>\n",
              "      <td>Easy</td>\n",
              "    </tr>\n",
              "  </tbody>\n",
              "</table>\n",
              "</div>"
            ],
            "text/plain": [
              "   Respondent                                         MainBranch Hobbyist  \\\n",
              "0           1             I am a student who is learning to code      Yes   \n",
              "1           2             I am a student who is learning to code       No   \n",
              "2           3  I am not primarily a developer, but I write co...      Yes   \n",
              "3           4                     I am a developer by profession       No   \n",
              "\n",
              "               OpenSourcer                                         OpenSource  \\\n",
              "0                    Never  The quality of OSS and closed source software ...   \n",
              "1  Less than once per year  The quality of OSS and closed source software ...   \n",
              "2                    Never  The quality of OSS and closed source software ...   \n",
              "3                    Never  The quality of OSS and closed source software ...   \n",
              "\n",
              "                               Employment                 Country  \\\n",
              "0  Not employed, and not looking for work          United Kingdom   \n",
              "1      Not employed, but looking for work  Bosnia and Herzegovina   \n",
              "2                      Employed full-time                Thailand   \n",
              "3                      Employed full-time           United States   \n",
              "\n",
              "          Student                                            EdLevel  \\\n",
              "0              No                          Primary/elementary school   \n",
              "1  Yes, full-time  Secondary school (e.g. American high school, G...   \n",
              "2              No           Bachelor’s degree (BA, BS, B.Eng., etc.)   \n",
              "3              No           Bachelor’s degree (BA, BS, B.Eng., etc.)   \n",
              "\n",
              "                                      UndergradMajor  \\\n",
              "0                                                NaN   \n",
              "1                                                NaN   \n",
              "2                      Web development or web design   \n",
              "3  Computer science, computer engineering, or sof...   \n",
              "\n",
              "                                            EduOther               OrgSize  \\\n",
              "0  Taught yourself a new language, framework, or ...                   NaN   \n",
              "1  Taken an online course in programming or softw...                   NaN   \n",
              "2  Taught yourself a new language, framework, or ...  100 to 499 employees   \n",
              "3  Taken an online course in programming or softw...  100 to 499 employees   \n",
              "\n",
              "                                             DevType YearsCode Age1stCode  \\\n",
              "0                                                NaN         4         10   \n",
              "1  Developer, desktop or enterprise applications;...       NaN         17   \n",
              "2  Designer;Developer, back-end;Developer, front-...         3         22   \n",
              "3                              Developer, full-stack         3         16   \n",
              "\n",
              "       YearsCodePro           CareerSat              JobSat  \\\n",
              "0               NaN                 NaN                 NaN   \n",
              "1               NaN                 NaN                 NaN   \n",
              "2                 1  Slightly satisfied  Slightly satisfied   \n",
              "3  Less than 1 year      Very satisfied  Slightly satisfied   \n",
              "\n",
              "               MgrIdiot  MgrMoney   MgrWant  \\\n",
              "0                   NaN       NaN       NaN   \n",
              "1                   NaN       NaN       NaN   \n",
              "2  Not at all confident  Not sure  Not sure   \n",
              "3        Very confident        No  Not sure   \n",
              "\n",
              "                                             JobSeek          LastHireDate  \\\n",
              "0                                                NaN                   NaN   \n",
              "1                    I am actively looking for a job  I've never had a job   \n",
              "2  I’m not actively looking, but I am open to new...         1-2 years ago   \n",
              "3       I am not interested in new job opportunities  Less than a year ago   \n",
              "\n",
              "                                             LastInt FizzBuzz  \\\n",
              "0                                                NaN      NaN   \n",
              "1                                                NaN      NaN   \n",
              "2                Interview with people in peer roles       No   \n",
              "3  Write code by hand (e.g., on a whiteboard);Int...       No   \n",
              "\n",
              "                                          JobFactors  \\\n",
              "0                                                NaN   \n",
              "1  Financial performance or funding status of the...   \n",
              "2  Languages, frameworks, and other technologies ...   \n",
              "3  Languages, frameworks, and other technologies ...   \n",
              "\n",
              "                                        ResumeUpdate CurrencySymbol  \\\n",
              "0                                                NaN            NaN   \n",
              "1  Something else changed (education, award, medi...            NaN   \n",
              "2                   I was preparing for a job search            THB   \n",
              "3                   I was preparing for a job search            USD   \n",
              "\n",
              "           CurrencyDesc  CompTotal CompFreq  ConvertedComp  WorkWeekHrs  \\\n",
              "0                   NaN        NaN      NaN            NaN          NaN   \n",
              "1                   NaN        NaN      NaN            NaN          NaN   \n",
              "2             Thai baht    23000.0  Monthly         8820.0         40.0   \n",
              "3  United States dollar    61000.0   Yearly        61000.0         80.0   \n",
              "\n",
              "                                            WorkPlan  \\\n",
              "0                                                NaN   \n",
              "1                                                NaN   \n",
              "2  There's no schedule or spec; I work on what se...   \n",
              "3  There's no schedule or spec; I work on what se...   \n",
              "\n",
              "                                       WorkChallenge  \\\n",
              "0                                                NaN   \n",
              "1                                                NaN   \n",
              "2  Distracting work environment;Inadequate access...   \n",
              "3                                                NaN   \n",
              "\n",
              "                         WorkRemote WorkLoc                  ImpSyn CodeRev  \\\n",
              "0                               NaN     NaN                     NaN     NaN   \n",
              "1                               NaN     NaN                     NaN     NaN   \n",
              "2  Less than once per month / Never    Home                 Average      No   \n",
              "3  Less than once per month / Never    Home  A little below average      No   \n",
              "\n",
              "   CodeRevHrs                  UnitTests  \\\n",
              "0         NaN                        NaN   \n",
              "1         NaN                        NaN   \n",
              "2         NaN  No, but I think we should   \n",
              "3         NaN  No, but I think we should   \n",
              "\n",
              "                                         PurchaseHow  \\\n",
              "0                                                NaN   \n",
              "1                                                NaN   \n",
              "2                                           Not sure   \n",
              "3  Developers typically have the most influence o...   \n",
              "\n",
              "                    PurchaseWhat               LanguageWorkedWith  \\\n",
              "0                            NaN  HTML/CSS;Java;JavaScript;Python   \n",
              "1                            NaN              C++;HTML/CSS;Python   \n",
              "2  I have little or no influence                         HTML/CSS   \n",
              "3  I have little or no influence              C;C++;C#;Python;SQL   \n",
              "\n",
              "                            LanguageDesireNextYear DatabaseWorkedWith  \\\n",
              "0  C;C++;C#;Go;HTML/CSS;Java;JavaScript;Python;SQL             SQLite   \n",
              "1                      C++;HTML/CSS;JavaScript;SQL                NaN   \n",
              "2                                  Elixir;HTML/CSS         PostgreSQL   \n",
              "3                              C;C#;JavaScript;SQL       MySQL;SQLite   \n",
              "\n",
              "  DatabaseDesireNextYear PlatformWorkedWith   PlatformDesireNextYear  \\\n",
              "0                  MySQL      MacOS;Windows  Android;Arduino;Windows   \n",
              "1                  MySQL            Windows                  Windows   \n",
              "2             PostgreSQL                NaN                      NaN   \n",
              "3           MySQL;SQLite      Linux;Windows            Linux;Windows   \n",
              "\n",
              "  WebFrameWorkedWith WebFrameDesireNextYear MiscTechWorkedWith  \\\n",
              "0       Django;Flask           Flask;jQuery            Node.js   \n",
              "1             Django                 Django                NaN   \n",
              "2                NaN              Other(s):                NaN   \n",
              "3                NaN                    NaN               .NET   \n",
              "\n",
              "  MiscTechDesireNextYear                                    DevEnviron  \\\n",
              "0                Node.js                    IntelliJ;Notepad++;PyCharm   \n",
              "1                    NaN                                  Atom;PyCharm   \n",
              "2                    NaN                        Vim;Visual Studio Code   \n",
              "3                   .NET  Eclipse;Vim;Visual Studio;Visual Studio Code   \n",
              "\n",
              "         OpSys               Containers BlockchainOrg  \\\n",
              "0      Windows  I do not use containers           NaN   \n",
              "1      Windows  I do not use containers           NaN   \n",
              "2  Linux-based  I do not use containers           NaN   \n",
              "3      Windows  I do not use containers    Not at all   \n",
              "\n",
              "                                        BlockchainIs BetterLife  \\\n",
              "0                                                NaN        Yes   \n",
              "1  Useful across many domains and could change ma...        Yes   \n",
              "2                                                NaN        Yes   \n",
              "3  Useful for decentralized currency (i.e., Bitcoin)        Yes   \n",
              "\n",
              "                                   ITperson OffOn SocialMedia  \\\n",
              "0  Fortunately, someone else has that title   Yes     Twitter   \n",
              "1                                       Yes   Yes   Instagram   \n",
              "2                                       Yes   Yes      Reddit   \n",
              "3                                      SIGH   Yes      Reddit   \n",
              "\n",
              "               Extraversion ScreenName SOVisit1st  \\\n",
              "0                    Online   Username       2017   \n",
              "1                    Online   Username       2017   \n",
              "2  In real life (in person)   Username       2011   \n",
              "3  In real life (in person)   Username       2014   \n",
              "\n",
              "                       SOVisitFreq  \\\n",
              "0  A few times per month or weekly   \n",
              "1            Daily or almost daily   \n",
              "2             A few times per week   \n",
              "3            Daily or almost daily   \n",
              "\n",
              "                                           SOVisitTo         SOFindAnswer  \\\n",
              "0  Find answers to specific questions;Learn how t...   3-5 times per week   \n",
              "1  Find answers to specific questions;Learn how t...   3-5 times per week   \n",
              "2  Find answers to specific questions;Learn how t...  6-10 times per week   \n",
              "3  Find answers to specific questions;Pass the ti...   1-2 times per week   \n",
              "\n",
              "                      SOTimeSaved  SOHowMuchTime SOAccount  \\\n",
              "0  Stack Overflow was much faster  31-60 minutes        No   \n",
              "1  Stack Overflow was much faster  11-30 minutes       Yes   \n",
              "2        They were about the same            NaN       Yes   \n",
              "3  Stack Overflow was much faster  31-60 minutes       Yes   \n",
              "\n",
              "                            SOPartFreq  \\\n",
              "0                                  NaN   \n",
              "1      A few times per month or weekly   \n",
              "2  Less than once per month or monthly   \n",
              "3  Less than once per month or monthly   \n",
              "\n",
              "                                              SOJobs  \\\n",
              "0  No, I didn't know that Stack Overflow had a jo...   \n",
              "1  No, I knew that Stack Overflow had a job board...   \n",
              "2                                                Yes   \n",
              "3                                                Yes   \n",
              "\n",
              "                                            EntTeams          SOComm  \\\n",
              "0                No, and I don't know what those are         Neutral   \n",
              "1                No, and I don't know what those are   Yes, somewhat   \n",
              "2  No, I've heard of them, but I am not part of a...         Neutral   \n",
              "3                No, and I don't know what those are  No, not really   \n",
              "\n",
              "                             WelcomeChange  \\\n",
              "0  Just as welcome now as I felt last year   \n",
              "1  Just as welcome now as I felt last year   \n",
              "2  Just as welcome now as I felt last year   \n",
              "3  Just as welcome now as I felt last year   \n",
              "\n",
              "                                        SONewContent   Age Gender Trans  \\\n",
              "0  Tech articles written by other developers;Indu...  14.0    Man    No   \n",
              "1  Tech articles written by other developers;Indu...  19.0    Man    No   \n",
              "2  Tech meetups or events in your area;Courses on...  28.0    Man    No   \n",
              "3  Tech articles written by other developers;Indu...  22.0    Man    No   \n",
              "\n",
              "                 Sexuality                     Ethnicity Dependents  \\\n",
              "0  Straight / Heterosexual                           NaN         No   \n",
              "1  Straight / Heterosexual                           NaN         No   \n",
              "2  Straight / Heterosexual                           NaN        Yes   \n",
              "3  Straight / Heterosexual  White or of European descent         No   \n",
              "\n",
              "            SurveyLength                  SurveyEase  \n",
              "0  Appropriate in length  Neither easy nor difficult  \n",
              "1  Appropriate in length  Neither easy nor difficult  \n",
              "2  Appropriate in length  Neither easy nor difficult  \n",
              "3  Appropriate in length                        Easy  "
            ]
          },
          "metadata": {
            "tags": []
          },
          "execution_count": 4
        }
      ]
    },
    {
      "cell_type": "code",
      "metadata": {
        "colab": {
          "base_uri": "https://localhost:8080/",
          "height": 284
        },
        "id": "bqQOiztkvPIs",
        "outputId": "ea5bd8c5-c705-43fd-c5dd-48d60d5b2185"
      },
      "source": [
        "df.describe()"
      ],
      "execution_count": null,
      "outputs": [
        {
          "output_type": "execute_result",
          "data": {
            "text/html": [
              "<div>\n",
              "<style scoped>\n",
              "    .dataframe tbody tr th:only-of-type {\n",
              "        vertical-align: middle;\n",
              "    }\n",
              "\n",
              "    .dataframe tbody tr th {\n",
              "        vertical-align: top;\n",
              "    }\n",
              "\n",
              "    .dataframe thead th {\n",
              "        text-align: right;\n",
              "    }\n",
              "</style>\n",
              "<table border=\"1\" class=\"dataframe\">\n",
              "  <thead>\n",
              "    <tr style=\"text-align: right;\">\n",
              "      <th></th>\n",
              "      <th>Respondent</th>\n",
              "      <th>CompTotal</th>\n",
              "      <th>ConvertedComp</th>\n",
              "      <th>WorkWeekHrs</th>\n",
              "      <th>CodeRevHrs</th>\n",
              "      <th>Age</th>\n",
              "    </tr>\n",
              "  </thead>\n",
              "  <tbody>\n",
              "    <tr>\n",
              "      <th>count</th>\n",
              "      <td>88883.000000</td>\n",
              "      <td>5.594500e+04</td>\n",
              "      <td>5.582300e+04</td>\n",
              "      <td>64503.000000</td>\n",
              "      <td>49790.000000</td>\n",
              "      <td>79210.000000</td>\n",
              "    </tr>\n",
              "    <tr>\n",
              "      <th>mean</th>\n",
              "      <td>44442.000000</td>\n",
              "      <td>5.519014e+11</td>\n",
              "      <td>1.271107e+05</td>\n",
              "      <td>42.127197</td>\n",
              "      <td>5.084308</td>\n",
              "      <td>30.336699</td>\n",
              "    </tr>\n",
              "    <tr>\n",
              "      <th>std</th>\n",
              "      <td>25658.456325</td>\n",
              "      <td>7.331926e+13</td>\n",
              "      <td>2.841523e+05</td>\n",
              "      <td>37.287610</td>\n",
              "      <td>5.513931</td>\n",
              "      <td>9.178390</td>\n",
              "    </tr>\n",
              "    <tr>\n",
              "      <th>min</th>\n",
              "      <td>1.000000</td>\n",
              "      <td>0.000000e+00</td>\n",
              "      <td>0.000000e+00</td>\n",
              "      <td>1.000000</td>\n",
              "      <td>0.000000</td>\n",
              "      <td>1.000000</td>\n",
              "    </tr>\n",
              "    <tr>\n",
              "      <th>25%</th>\n",
              "      <td>22221.500000</td>\n",
              "      <td>2.000000e+04</td>\n",
              "      <td>2.577750e+04</td>\n",
              "      <td>40.000000</td>\n",
              "      <td>2.000000</td>\n",
              "      <td>24.000000</td>\n",
              "    </tr>\n",
              "    <tr>\n",
              "      <th>50%</th>\n",
              "      <td>44442.000000</td>\n",
              "      <td>6.200000e+04</td>\n",
              "      <td>5.728700e+04</td>\n",
              "      <td>40.000000</td>\n",
              "      <td>4.000000</td>\n",
              "      <td>29.000000</td>\n",
              "    </tr>\n",
              "    <tr>\n",
              "      <th>75%</th>\n",
              "      <td>66662.500000</td>\n",
              "      <td>1.200000e+05</td>\n",
              "      <td>1.000000e+05</td>\n",
              "      <td>44.750000</td>\n",
              "      <td>6.000000</td>\n",
              "      <td>35.000000</td>\n",
              "    </tr>\n",
              "    <tr>\n",
              "      <th>max</th>\n",
              "      <td>88883.000000</td>\n",
              "      <td>1.000000e+16</td>\n",
              "      <td>2.000000e+06</td>\n",
              "      <td>4850.000000</td>\n",
              "      <td>99.000000</td>\n",
              "      <td>99.000000</td>\n",
              "    </tr>\n",
              "  </tbody>\n",
              "</table>\n",
              "</div>"
            ],
            "text/plain": [
              "         Respondent     CompTotal  ConvertedComp   WorkWeekHrs    CodeRevHrs  \\\n",
              "count  88883.000000  5.594500e+04   5.582300e+04  64503.000000  49790.000000   \n",
              "mean   44442.000000  5.519014e+11   1.271107e+05     42.127197      5.084308   \n",
              "std    25658.456325  7.331926e+13   2.841523e+05     37.287610      5.513931   \n",
              "min        1.000000  0.000000e+00   0.000000e+00      1.000000      0.000000   \n",
              "25%    22221.500000  2.000000e+04   2.577750e+04     40.000000      2.000000   \n",
              "50%    44442.000000  6.200000e+04   5.728700e+04     40.000000      4.000000   \n",
              "75%    66662.500000  1.200000e+05   1.000000e+05     44.750000      6.000000   \n",
              "max    88883.000000  1.000000e+16   2.000000e+06   4850.000000     99.000000   \n",
              "\n",
              "                Age  \n",
              "count  79210.000000  \n",
              "mean      30.336699  \n",
              "std        9.178390  \n",
              "min        1.000000  \n",
              "25%       24.000000  \n",
              "50%       29.000000  \n",
              "75%       35.000000  \n",
              "max       99.000000  "
            ]
          },
          "metadata": {
            "tags": []
          },
          "execution_count": 5
        }
      ]
    },
    {
      "cell_type": "code",
      "metadata": {
        "colab": {
          "base_uri": "https://localhost:8080/"
        },
        "id": "CSEk7ix2vPIt",
        "outputId": "35655577-232f-4432-9651-a1b19c5a4a08"
      },
      "source": [
        "df.columns.values.tolist()"
      ],
      "execution_count": null,
      "outputs": [
        {
          "output_type": "execute_result",
          "data": {
            "text/plain": [
              "['Respondent',\n",
              " 'MainBranch',\n",
              " 'Hobbyist',\n",
              " 'OpenSourcer',\n",
              " 'OpenSource',\n",
              " 'Employment',\n",
              " 'Country',\n",
              " 'Student',\n",
              " 'EdLevel',\n",
              " 'UndergradMajor',\n",
              " 'EduOther',\n",
              " 'OrgSize',\n",
              " 'DevType',\n",
              " 'YearsCode',\n",
              " 'Age1stCode',\n",
              " 'YearsCodePro',\n",
              " 'CareerSat',\n",
              " 'JobSat',\n",
              " 'MgrIdiot',\n",
              " 'MgrMoney',\n",
              " 'MgrWant',\n",
              " 'JobSeek',\n",
              " 'LastHireDate',\n",
              " 'LastInt',\n",
              " 'FizzBuzz',\n",
              " 'JobFactors',\n",
              " 'ResumeUpdate',\n",
              " 'CurrencySymbol',\n",
              " 'CurrencyDesc',\n",
              " 'CompTotal',\n",
              " 'CompFreq',\n",
              " 'ConvertedComp',\n",
              " 'WorkWeekHrs',\n",
              " 'WorkPlan',\n",
              " 'WorkChallenge',\n",
              " 'WorkRemote',\n",
              " 'WorkLoc',\n",
              " 'ImpSyn',\n",
              " 'CodeRev',\n",
              " 'CodeRevHrs',\n",
              " 'UnitTests',\n",
              " 'PurchaseHow',\n",
              " 'PurchaseWhat',\n",
              " 'LanguageWorkedWith',\n",
              " 'LanguageDesireNextYear',\n",
              " 'DatabaseWorkedWith',\n",
              " 'DatabaseDesireNextYear',\n",
              " 'PlatformWorkedWith',\n",
              " 'PlatformDesireNextYear',\n",
              " 'WebFrameWorkedWith',\n",
              " 'WebFrameDesireNextYear',\n",
              " 'MiscTechWorkedWith',\n",
              " 'MiscTechDesireNextYear',\n",
              " 'DevEnviron',\n",
              " 'OpSys',\n",
              " 'Containers',\n",
              " 'BlockchainOrg',\n",
              " 'BlockchainIs',\n",
              " 'BetterLife',\n",
              " 'ITperson',\n",
              " 'OffOn',\n",
              " 'SocialMedia',\n",
              " 'Extraversion',\n",
              " 'ScreenName',\n",
              " 'SOVisit1st',\n",
              " 'SOVisitFreq',\n",
              " 'SOVisitTo',\n",
              " 'SOFindAnswer',\n",
              " 'SOTimeSaved',\n",
              " 'SOHowMuchTime',\n",
              " 'SOAccount',\n",
              " 'SOPartFreq',\n",
              " 'SOJobs',\n",
              " 'EntTeams',\n",
              " 'SOComm',\n",
              " 'WelcomeChange',\n",
              " 'SONewContent',\n",
              " 'Age',\n",
              " 'Gender',\n",
              " 'Trans',\n",
              " 'Sexuality',\n",
              " 'Ethnicity',\n",
              " 'Dependents',\n",
              " 'SurveyLength',\n",
              " 'SurveyEase']"
            ]
          },
          "metadata": {
            "tags": []
          },
          "execution_count": 6
        }
      ]
    },
    {
      "cell_type": "markdown",
      "metadata": {
        "id": "VQ5O38BdvPIu"
      },
      "source": [
        "## CLEANING DATA\n",
        "\n",
        "\n",
        "\n"
      ]
    },
    {
      "cell_type": "code",
      "metadata": {
        "colab": {
          "base_uri": "https://localhost:8080/"
        },
        "id": "EMQcd8osvPIu",
        "outputId": "e0298a44-75ad-4cc4-c271-2fd01aadcf8d"
      },
      "source": [
        "df['PurchaseWhat'].unique().tolist()"
      ],
      "execution_count": null,
      "outputs": [
        {
          "output_type": "execute_result",
          "data": {
            "text/plain": [
              "[nan,\n",
              " 'I have little or no influence',\n",
              " 'I have some influence',\n",
              " 'I have a great deal of influence']"
            ]
          },
          "metadata": {
            "tags": []
          },
          "execution_count": 7
        }
      ]
    },
    {
      "cell_type": "code",
      "metadata": {
        "id": "UN3ISBcovPIv"
      },
      "source": [
        "df.drop(['OpenSourcer', 'OpenSource','FizzBuzz','JobFactors','ResumeUpdate',\n",
        "         'CurrencySymbol','CurrencyDesc','CompTotal','CompFreq','ConvertedComp',\n",
        "        'LanguageWorkedWith','LanguageDesireNextYear','DatabaseWorkedWith','DatabaseDesireNextYear',\n",
        "         'PlatformWorkedWith','PlatformDesireNextYear','WebFrameWorkedWith','WebFrameDesireNextYear',\n",
        "         'MiscTechWorkedWith','MiscTechDesireNextYear','DevEnviron','OpSys','Containers','BlockchainOrg',\n",
        "          'BlockchainIs','ITperson','OffOn','SocialMedia','Extraversion','ScreenName',\n",
        "        'Trans','Sexuality','Ethnicity','SurveyLength','SurveyEase','OrgSize',\n",
        "         'SOVisit1st','SOVisitFreq','SOVisitTo','SOFindAnswer','SOTimeSaved','SOHowMuchTime',\n",
        "         'SOAccount','SOPartFreq','SOJobs','EntTeams','SOComm', 'WelcomeChange','SONewContent',\n",
        "         'LastHireDate'],axis = 1, inplace = True)"
      ],
      "execution_count": null,
      "outputs": []
    },
    {
      "cell_type": "code",
      "metadata": {
        "colab": {
          "base_uri": "https://localhost:8080/"
        },
        "id": "e4Dio204BLnB",
        "outputId": "1332dfa3-d3ea-4113-e699-0e40610ec4a8"
      },
      "source": [
        "df.columns.values.tolist()"
      ],
      "execution_count": null,
      "outputs": [
        {
          "output_type": "execute_result",
          "data": {
            "text/plain": [
              "['Respondent',\n",
              " 'MainBranch',\n",
              " 'Hobbyist',\n",
              " 'Employment',\n",
              " 'Country',\n",
              " 'Student',\n",
              " 'EdLevel',\n",
              " 'UndergradMajor',\n",
              " 'EduOther',\n",
              " 'DevType',\n",
              " 'YearsCode',\n",
              " 'Age1stCode',\n",
              " 'YearsCodePro',\n",
              " 'CareerSat',\n",
              " 'JobSat',\n",
              " 'MgrIdiot',\n",
              " 'MgrMoney',\n",
              " 'MgrWant',\n",
              " 'JobSeek',\n",
              " 'LastInt',\n",
              " 'WorkWeekHrs',\n",
              " 'WorkPlan',\n",
              " 'WorkChallenge',\n",
              " 'WorkRemote',\n",
              " 'WorkLoc',\n",
              " 'ImpSyn',\n",
              " 'CodeRev',\n",
              " 'CodeRevHrs',\n",
              " 'UnitTests',\n",
              " 'PurchaseHow',\n",
              " 'PurchaseWhat',\n",
              " 'BetterLife',\n",
              " 'Age',\n",
              " 'Gender',\n",
              " 'Dependents']"
            ]
          },
          "metadata": {
            "tags": []
          },
          "execution_count": 9
        }
      ]
    },
    {
      "cell_type": "code",
      "metadata": {
        "colab": {
          "base_uri": "https://localhost:8080/"
        },
        "id": "MAinrDBcvPIw",
        "outputId": "97d5753f-74a4-45dc-9432-5da7cbe133fa"
      },
      "source": [
        "len(df.index)"
      ],
      "execution_count": null,
      "outputs": [
        {
          "output_type": "execute_result",
          "data": {
            "text/plain": [
              "88883"
            ]
          },
          "metadata": {
            "tags": []
          },
          "execution_count": 10
        }
      ]
    },
    {
      "cell_type": "code",
      "metadata": {
        "colab": {
          "base_uri": "https://localhost:8080/"
        },
        "id": "gSrdyWotBJfX",
        "outputId": "d45c3556-2a09-4274-84b9-f18b87619ead"
      },
      "source": [
        "df.dtypes"
      ],
      "execution_count": null,
      "outputs": [
        {
          "output_type": "execute_result",
          "data": {
            "text/plain": [
              "Respondent          int64\n",
              "MainBranch         object\n",
              "Hobbyist           object\n",
              "Employment         object\n",
              "Country            object\n",
              "Student            object\n",
              "EdLevel            object\n",
              "UndergradMajor     object\n",
              "EduOther           object\n",
              "DevType            object\n",
              "YearsCode          object\n",
              "Age1stCode         object\n",
              "YearsCodePro       object\n",
              "CareerSat          object\n",
              "JobSat             object\n",
              "MgrIdiot           object\n",
              "MgrMoney           object\n",
              "MgrWant            object\n",
              "JobSeek            object\n",
              "LastInt            object\n",
              "WorkWeekHrs       float64\n",
              "WorkPlan           object\n",
              "WorkChallenge      object\n",
              "WorkRemote         object\n",
              "WorkLoc            object\n",
              "ImpSyn             object\n",
              "CodeRev            object\n",
              "CodeRevHrs        float64\n",
              "UnitTests          object\n",
              "PurchaseHow        object\n",
              "PurchaseWhat       object\n",
              "BetterLife         object\n",
              "Age               float64\n",
              "Gender             object\n",
              "Dependents         object\n",
              "dtype: object"
            ]
          },
          "metadata": {
            "tags": []
          },
          "execution_count": 11
        }
      ]
    },
    {
      "cell_type": "code",
      "metadata": {
        "colab": {
          "base_uri": "https://localhost:8080/"
        },
        "id": "Ig-SazUzBJo2",
        "outputId": "1904bc0d-6241-4e60-d537-bb4a23c9caab"
      },
      "source": [
        "pd.to_numeric(df['YearsCode'], errors='coerce')\n",
        "pd.to_numeric(df['Age1stCode'], errors='coerce')\n",
        "pd.to_numeric(df['YearsCodePro'], errors='coerce')\n",
        "df.dtypes"
      ],
      "execution_count": null,
      "outputs": [
        {
          "output_type": "execute_result",
          "data": {
            "text/plain": [
              "Respondent          int64\n",
              "MainBranch         object\n",
              "Hobbyist           object\n",
              "Employment         object\n",
              "Country            object\n",
              "Student            object\n",
              "EdLevel            object\n",
              "UndergradMajor     object\n",
              "EduOther           object\n",
              "DevType            object\n",
              "YearsCode          object\n",
              "Age1stCode         object\n",
              "YearsCodePro       object\n",
              "CareerSat          object\n",
              "JobSat             object\n",
              "MgrIdiot           object\n",
              "MgrMoney           object\n",
              "MgrWant            object\n",
              "JobSeek            object\n",
              "LastInt            object\n",
              "WorkWeekHrs       float64\n",
              "WorkPlan           object\n",
              "WorkChallenge      object\n",
              "WorkRemote         object\n",
              "WorkLoc            object\n",
              "ImpSyn             object\n",
              "CodeRev            object\n",
              "CodeRevHrs        float64\n",
              "UnitTests          object\n",
              "PurchaseHow        object\n",
              "PurchaseWhat       object\n",
              "BetterLife         object\n",
              "Age               float64\n",
              "Gender             object\n",
              "Dependents         object\n",
              "dtype: object"
            ]
          },
          "metadata": {
            "tags": []
          },
          "execution_count": 12
        }
      ]
    },
    {
      "cell_type": "code",
      "metadata": {
        "id": "Doez88GovPIw"
      },
      "source": [
        "df.dropna(inplace = True, how = 'all')"
      ],
      "execution_count": null,
      "outputs": []
    },
    {
      "cell_type": "code",
      "metadata": {
        "colab": {
          "base_uri": "https://localhost:8080/"
        },
        "id": "nKiK1EUivPIx",
        "outputId": "132996ac-f254-40ce-b9ae-557e3bb9c35e"
      },
      "source": [
        "len(df.index)"
      ],
      "execution_count": null,
      "outputs": [
        {
          "output_type": "execute_result",
          "data": {
            "text/plain": [
              "88883"
            ]
          },
          "metadata": {
            "tags": []
          },
          "execution_count": 14
        }
      ]
    },
    {
      "cell_type": "code",
      "metadata": {
        "colab": {
          "base_uri": "https://localhost:8080/",
          "height": 505
        },
        "id": "j2VKBZMCvPIx",
        "outputId": "10e59ffb-f0f8-478b-c8d1-ac5f241657a0"
      },
      "source": [
        "df.head(4)"
      ],
      "execution_count": null,
      "outputs": [
        {
          "output_type": "execute_result",
          "data": {
            "text/html": [
              "<div>\n",
              "<style scoped>\n",
              "    .dataframe tbody tr th:only-of-type {\n",
              "        vertical-align: middle;\n",
              "    }\n",
              "\n",
              "    .dataframe tbody tr th {\n",
              "        vertical-align: top;\n",
              "    }\n",
              "\n",
              "    .dataframe thead th {\n",
              "        text-align: right;\n",
              "    }\n",
              "</style>\n",
              "<table border=\"1\" class=\"dataframe\">\n",
              "  <thead>\n",
              "    <tr style=\"text-align: right;\">\n",
              "      <th></th>\n",
              "      <th>Respondent</th>\n",
              "      <th>MainBranch</th>\n",
              "      <th>Hobbyist</th>\n",
              "      <th>Employment</th>\n",
              "      <th>Country</th>\n",
              "      <th>Student</th>\n",
              "      <th>EdLevel</th>\n",
              "      <th>UndergradMajor</th>\n",
              "      <th>EduOther</th>\n",
              "      <th>DevType</th>\n",
              "      <th>YearsCode</th>\n",
              "      <th>Age1stCode</th>\n",
              "      <th>YearsCodePro</th>\n",
              "      <th>CareerSat</th>\n",
              "      <th>JobSat</th>\n",
              "      <th>MgrIdiot</th>\n",
              "      <th>MgrMoney</th>\n",
              "      <th>MgrWant</th>\n",
              "      <th>JobSeek</th>\n",
              "      <th>LastInt</th>\n",
              "      <th>WorkWeekHrs</th>\n",
              "      <th>WorkPlan</th>\n",
              "      <th>WorkChallenge</th>\n",
              "      <th>WorkRemote</th>\n",
              "      <th>WorkLoc</th>\n",
              "      <th>ImpSyn</th>\n",
              "      <th>CodeRev</th>\n",
              "      <th>CodeRevHrs</th>\n",
              "      <th>UnitTests</th>\n",
              "      <th>PurchaseHow</th>\n",
              "      <th>PurchaseWhat</th>\n",
              "      <th>BetterLife</th>\n",
              "      <th>Age</th>\n",
              "      <th>Gender</th>\n",
              "      <th>Dependents</th>\n",
              "    </tr>\n",
              "  </thead>\n",
              "  <tbody>\n",
              "    <tr>\n",
              "      <th>0</th>\n",
              "      <td>1</td>\n",
              "      <td>I am a student who is learning to code</td>\n",
              "      <td>Yes</td>\n",
              "      <td>Not employed, and not looking for work</td>\n",
              "      <td>United Kingdom</td>\n",
              "      <td>No</td>\n",
              "      <td>Primary/elementary school</td>\n",
              "      <td>NaN</td>\n",
              "      <td>Taught yourself a new language, framework, or ...</td>\n",
              "      <td>NaN</td>\n",
              "      <td>4</td>\n",
              "      <td>10</td>\n",
              "      <td>NaN</td>\n",
              "      <td>NaN</td>\n",
              "      <td>NaN</td>\n",
              "      <td>NaN</td>\n",
              "      <td>NaN</td>\n",
              "      <td>NaN</td>\n",
              "      <td>NaN</td>\n",
              "      <td>NaN</td>\n",
              "      <td>NaN</td>\n",
              "      <td>NaN</td>\n",
              "      <td>NaN</td>\n",
              "      <td>NaN</td>\n",
              "      <td>NaN</td>\n",
              "      <td>NaN</td>\n",
              "      <td>NaN</td>\n",
              "      <td>NaN</td>\n",
              "      <td>NaN</td>\n",
              "      <td>NaN</td>\n",
              "      <td>NaN</td>\n",
              "      <td>Yes</td>\n",
              "      <td>14.0</td>\n",
              "      <td>Man</td>\n",
              "      <td>No</td>\n",
              "    </tr>\n",
              "    <tr>\n",
              "      <th>1</th>\n",
              "      <td>2</td>\n",
              "      <td>I am a student who is learning to code</td>\n",
              "      <td>No</td>\n",
              "      <td>Not employed, but looking for work</td>\n",
              "      <td>Bosnia and Herzegovina</td>\n",
              "      <td>Yes, full-time</td>\n",
              "      <td>Secondary school (e.g. American high school, G...</td>\n",
              "      <td>NaN</td>\n",
              "      <td>Taken an online course in programming or softw...</td>\n",
              "      <td>Developer, desktop or enterprise applications;...</td>\n",
              "      <td>NaN</td>\n",
              "      <td>17</td>\n",
              "      <td>NaN</td>\n",
              "      <td>NaN</td>\n",
              "      <td>NaN</td>\n",
              "      <td>NaN</td>\n",
              "      <td>NaN</td>\n",
              "      <td>NaN</td>\n",
              "      <td>I am actively looking for a job</td>\n",
              "      <td>NaN</td>\n",
              "      <td>NaN</td>\n",
              "      <td>NaN</td>\n",
              "      <td>NaN</td>\n",
              "      <td>NaN</td>\n",
              "      <td>NaN</td>\n",
              "      <td>NaN</td>\n",
              "      <td>NaN</td>\n",
              "      <td>NaN</td>\n",
              "      <td>NaN</td>\n",
              "      <td>NaN</td>\n",
              "      <td>NaN</td>\n",
              "      <td>Yes</td>\n",
              "      <td>19.0</td>\n",
              "      <td>Man</td>\n",
              "      <td>No</td>\n",
              "    </tr>\n",
              "    <tr>\n",
              "      <th>2</th>\n",
              "      <td>3</td>\n",
              "      <td>I am not primarily a developer, but I write co...</td>\n",
              "      <td>Yes</td>\n",
              "      <td>Employed full-time</td>\n",
              "      <td>Thailand</td>\n",
              "      <td>No</td>\n",
              "      <td>Bachelor’s degree (BA, BS, B.Eng., etc.)</td>\n",
              "      <td>Web development or web design</td>\n",
              "      <td>Taught yourself a new language, framework, or ...</td>\n",
              "      <td>Designer;Developer, back-end;Developer, front-...</td>\n",
              "      <td>3</td>\n",
              "      <td>22</td>\n",
              "      <td>1</td>\n",
              "      <td>Slightly satisfied</td>\n",
              "      <td>Slightly satisfied</td>\n",
              "      <td>Not at all confident</td>\n",
              "      <td>Not sure</td>\n",
              "      <td>Not sure</td>\n",
              "      <td>I’m not actively looking, but I am open to new...</td>\n",
              "      <td>Interview with people in peer roles</td>\n",
              "      <td>40.0</td>\n",
              "      <td>There's no schedule or spec; I work on what se...</td>\n",
              "      <td>Distracting work environment;Inadequate access...</td>\n",
              "      <td>Less than once per month / Never</td>\n",
              "      <td>Home</td>\n",
              "      <td>Average</td>\n",
              "      <td>No</td>\n",
              "      <td>NaN</td>\n",
              "      <td>No, but I think we should</td>\n",
              "      <td>Not sure</td>\n",
              "      <td>I have little or no influence</td>\n",
              "      <td>Yes</td>\n",
              "      <td>28.0</td>\n",
              "      <td>Man</td>\n",
              "      <td>Yes</td>\n",
              "    </tr>\n",
              "    <tr>\n",
              "      <th>3</th>\n",
              "      <td>4</td>\n",
              "      <td>I am a developer by profession</td>\n",
              "      <td>No</td>\n",
              "      <td>Employed full-time</td>\n",
              "      <td>United States</td>\n",
              "      <td>No</td>\n",
              "      <td>Bachelor’s degree (BA, BS, B.Eng., etc.)</td>\n",
              "      <td>Computer science, computer engineering, or sof...</td>\n",
              "      <td>Taken an online course in programming or softw...</td>\n",
              "      <td>Developer, full-stack</td>\n",
              "      <td>3</td>\n",
              "      <td>16</td>\n",
              "      <td>Less than 1 year</td>\n",
              "      <td>Very satisfied</td>\n",
              "      <td>Slightly satisfied</td>\n",
              "      <td>Very confident</td>\n",
              "      <td>No</td>\n",
              "      <td>Not sure</td>\n",
              "      <td>I am not interested in new job opportunities</td>\n",
              "      <td>Write code by hand (e.g., on a whiteboard);Int...</td>\n",
              "      <td>80.0</td>\n",
              "      <td>There's no schedule or spec; I work on what se...</td>\n",
              "      <td>NaN</td>\n",
              "      <td>Less than once per month / Never</td>\n",
              "      <td>Home</td>\n",
              "      <td>A little below average</td>\n",
              "      <td>No</td>\n",
              "      <td>NaN</td>\n",
              "      <td>No, but I think we should</td>\n",
              "      <td>Developers typically have the most influence o...</td>\n",
              "      <td>I have little or no influence</td>\n",
              "      <td>Yes</td>\n",
              "      <td>22.0</td>\n",
              "      <td>Man</td>\n",
              "      <td>No</td>\n",
              "    </tr>\n",
              "  </tbody>\n",
              "</table>\n",
              "</div>"
            ],
            "text/plain": [
              "   Respondent                                         MainBranch Hobbyist  \\\n",
              "0           1             I am a student who is learning to code      Yes   \n",
              "1           2             I am a student who is learning to code       No   \n",
              "2           3  I am not primarily a developer, but I write co...      Yes   \n",
              "3           4                     I am a developer by profession       No   \n",
              "\n",
              "                               Employment                 Country  \\\n",
              "0  Not employed, and not looking for work          United Kingdom   \n",
              "1      Not employed, but looking for work  Bosnia and Herzegovina   \n",
              "2                      Employed full-time                Thailand   \n",
              "3                      Employed full-time           United States   \n",
              "\n",
              "          Student                                            EdLevel  \\\n",
              "0              No                          Primary/elementary school   \n",
              "1  Yes, full-time  Secondary school (e.g. American high school, G...   \n",
              "2              No           Bachelor’s degree (BA, BS, B.Eng., etc.)   \n",
              "3              No           Bachelor’s degree (BA, BS, B.Eng., etc.)   \n",
              "\n",
              "                                      UndergradMajor  \\\n",
              "0                                                NaN   \n",
              "1                                                NaN   \n",
              "2                      Web development or web design   \n",
              "3  Computer science, computer engineering, or sof...   \n",
              "\n",
              "                                            EduOther  \\\n",
              "0  Taught yourself a new language, framework, or ...   \n",
              "1  Taken an online course in programming or softw...   \n",
              "2  Taught yourself a new language, framework, or ...   \n",
              "3  Taken an online course in programming or softw...   \n",
              "\n",
              "                                             DevType YearsCode Age1stCode  \\\n",
              "0                                                NaN         4         10   \n",
              "1  Developer, desktop or enterprise applications;...       NaN         17   \n",
              "2  Designer;Developer, back-end;Developer, front-...         3         22   \n",
              "3                              Developer, full-stack         3         16   \n",
              "\n",
              "       YearsCodePro           CareerSat              JobSat  \\\n",
              "0               NaN                 NaN                 NaN   \n",
              "1               NaN                 NaN                 NaN   \n",
              "2                 1  Slightly satisfied  Slightly satisfied   \n",
              "3  Less than 1 year      Very satisfied  Slightly satisfied   \n",
              "\n",
              "               MgrIdiot  MgrMoney   MgrWant  \\\n",
              "0                   NaN       NaN       NaN   \n",
              "1                   NaN       NaN       NaN   \n",
              "2  Not at all confident  Not sure  Not sure   \n",
              "3        Very confident        No  Not sure   \n",
              "\n",
              "                                             JobSeek  \\\n",
              "0                                                NaN   \n",
              "1                    I am actively looking for a job   \n",
              "2  I’m not actively looking, but I am open to new...   \n",
              "3       I am not interested in new job opportunities   \n",
              "\n",
              "                                             LastInt  WorkWeekHrs  \\\n",
              "0                                                NaN          NaN   \n",
              "1                                                NaN          NaN   \n",
              "2                Interview with people in peer roles         40.0   \n",
              "3  Write code by hand (e.g., on a whiteboard);Int...         80.0   \n",
              "\n",
              "                                            WorkPlan  \\\n",
              "0                                                NaN   \n",
              "1                                                NaN   \n",
              "2  There's no schedule or spec; I work on what se...   \n",
              "3  There's no schedule or spec; I work on what se...   \n",
              "\n",
              "                                       WorkChallenge  \\\n",
              "0                                                NaN   \n",
              "1                                                NaN   \n",
              "2  Distracting work environment;Inadequate access...   \n",
              "3                                                NaN   \n",
              "\n",
              "                         WorkRemote WorkLoc                  ImpSyn CodeRev  \\\n",
              "0                               NaN     NaN                     NaN     NaN   \n",
              "1                               NaN     NaN                     NaN     NaN   \n",
              "2  Less than once per month / Never    Home                 Average      No   \n",
              "3  Less than once per month / Never    Home  A little below average      No   \n",
              "\n",
              "   CodeRevHrs                  UnitTests  \\\n",
              "0         NaN                        NaN   \n",
              "1         NaN                        NaN   \n",
              "2         NaN  No, but I think we should   \n",
              "3         NaN  No, but I think we should   \n",
              "\n",
              "                                         PurchaseHow  \\\n",
              "0                                                NaN   \n",
              "1                                                NaN   \n",
              "2                                           Not sure   \n",
              "3  Developers typically have the most influence o...   \n",
              "\n",
              "                    PurchaseWhat BetterLife   Age Gender Dependents  \n",
              "0                            NaN        Yes  14.0    Man         No  \n",
              "1                            NaN        Yes  19.0    Man         No  \n",
              "2  I have little or no influence        Yes  28.0    Man        Yes  \n",
              "3  I have little or no influence        Yes  22.0    Man         No  "
            ]
          },
          "metadata": {
            "tags": []
          },
          "execution_count": 15
        }
      ]
    },
    {
      "cell_type": "code",
      "metadata": {
        "id": "PaX-19dPvPIy"
      },
      "source": [
        "df.rename(columns = {\"MgrIdiot\":\"Confidence_of_Manager\", \"MgrMoney\":\"Become_Manager_for_Money\",\n",
        "                     \"MgrWant\":\"Want_to_become_manager\",\"LastInt\":\"Last_Interview\",\n",
        "                      \"WorkLoc\":\"WorkLocPreference\",\"ImpSyn\":\"Competence_for_Work\",\n",
        "                      \"PurchaseWhat\":\"Purchase_Influence\"}, inplace = True)"
      ],
      "execution_count": null,
      "outputs": []
    },
    {
      "cell_type": "code",
      "metadata": {
        "colab": {
          "base_uri": "https://localhost:8080/"
        },
        "id": "B7lyyXU4vPIy",
        "outputId": "51eb33f0-0f29-44ed-c234-e9eed4732932"
      },
      "source": [
        "df.isnull().sum()\n",
        "# Cant drop any columns as all columns have valuable information"
      ],
      "execution_count": null,
      "outputs": [
        {
          "output_type": "execute_result",
          "data": {
            "text/plain": [
              "Respondent                      0\n",
              "MainBranch                    552\n",
              "Hobbyist                        0\n",
              "Employment                   1702\n",
              "Country                       132\n",
              "Student                      1869\n",
              "EdLevel                      2493\n",
              "UndergradMajor              13269\n",
              "EduOther                     4623\n",
              "DevType                      7548\n",
              "YearsCode                     945\n",
              "Age1stCode                   1249\n",
              "YearsCodePro                14552\n",
              "CareerSat                   16036\n",
              "JobSat                      17895\n",
              "Confidence_of_Manager       27724\n",
              "Become_Manager_for_Money    27726\n",
              "Want_to_become_manager      27651\n",
              "JobSeek                      8328\n",
              "Last_Interview              21728\n",
              "WorkWeekHrs                 24380\n",
              "WorkPlan                    19969\n",
              "WorkChallenge               20742\n",
              "WorkRemote                  18599\n",
              "WorkLocPreference           18828\n",
              "Competence_for_Work         17104\n",
              "CodeRev                     18493\n",
              "CodeRevHrs                  39093\n",
              "UnitTests                   26215\n",
              "PurchaseHow                 27775\n",
              "Purchase_Influence          26854\n",
              "BetterLife                   2614\n",
              "Age                          9673\n",
              "Gender                       3477\n",
              "Dependents                   5824\n",
              "dtype: int64"
            ]
          },
          "metadata": {
            "tags": []
          },
          "execution_count": 17
        }
      ]
    },
    {
      "cell_type": "code",
      "metadata": {
        "colab": {
          "base_uri": "https://localhost:8080/",
          "height": 1000
        },
        "id": "MbblpEYNvPIz",
        "outputId": "925c9d9a-70a0-4feb-80d7-4f5eff16854c"
      },
      "source": [
        "df"
      ],
      "execution_count": null,
      "outputs": [
        {
          "output_type": "execute_result",
          "data": {
            "text/html": [
              "<div>\n",
              "<style scoped>\n",
              "    .dataframe tbody tr th:only-of-type {\n",
              "        vertical-align: middle;\n",
              "    }\n",
              "\n",
              "    .dataframe tbody tr th {\n",
              "        vertical-align: top;\n",
              "    }\n",
              "\n",
              "    .dataframe thead th {\n",
              "        text-align: right;\n",
              "    }\n",
              "</style>\n",
              "<table border=\"1\" class=\"dataframe\">\n",
              "  <thead>\n",
              "    <tr style=\"text-align: right;\">\n",
              "      <th></th>\n",
              "      <th>Respondent</th>\n",
              "      <th>MainBranch</th>\n",
              "      <th>Hobbyist</th>\n",
              "      <th>Employment</th>\n",
              "      <th>Country</th>\n",
              "      <th>Student</th>\n",
              "      <th>EdLevel</th>\n",
              "      <th>UndergradMajor</th>\n",
              "      <th>EduOther</th>\n",
              "      <th>DevType</th>\n",
              "      <th>YearsCode</th>\n",
              "      <th>Age1stCode</th>\n",
              "      <th>YearsCodePro</th>\n",
              "      <th>CareerSat</th>\n",
              "      <th>JobSat</th>\n",
              "      <th>Confidence_of_Manager</th>\n",
              "      <th>Become_Manager_for_Money</th>\n",
              "      <th>Want_to_become_manager</th>\n",
              "      <th>JobSeek</th>\n",
              "      <th>Last_Interview</th>\n",
              "      <th>WorkWeekHrs</th>\n",
              "      <th>WorkPlan</th>\n",
              "      <th>WorkChallenge</th>\n",
              "      <th>WorkRemote</th>\n",
              "      <th>WorkLocPreference</th>\n",
              "      <th>Competence_for_Work</th>\n",
              "      <th>CodeRev</th>\n",
              "      <th>CodeRevHrs</th>\n",
              "      <th>UnitTests</th>\n",
              "      <th>PurchaseHow</th>\n",
              "      <th>Purchase_Influence</th>\n",
              "      <th>BetterLife</th>\n",
              "      <th>Age</th>\n",
              "      <th>Gender</th>\n",
              "      <th>Dependents</th>\n",
              "    </tr>\n",
              "  </thead>\n",
              "  <tbody>\n",
              "    <tr>\n",
              "      <th>0</th>\n",
              "      <td>1</td>\n",
              "      <td>I am a student who is learning to code</td>\n",
              "      <td>Yes</td>\n",
              "      <td>Not employed, and not looking for work</td>\n",
              "      <td>United Kingdom</td>\n",
              "      <td>No</td>\n",
              "      <td>Primary/elementary school</td>\n",
              "      <td>NaN</td>\n",
              "      <td>Taught yourself a new language, framework, or ...</td>\n",
              "      <td>NaN</td>\n",
              "      <td>4</td>\n",
              "      <td>10</td>\n",
              "      <td>NaN</td>\n",
              "      <td>NaN</td>\n",
              "      <td>NaN</td>\n",
              "      <td>NaN</td>\n",
              "      <td>NaN</td>\n",
              "      <td>NaN</td>\n",
              "      <td>NaN</td>\n",
              "      <td>NaN</td>\n",
              "      <td>NaN</td>\n",
              "      <td>NaN</td>\n",
              "      <td>NaN</td>\n",
              "      <td>NaN</td>\n",
              "      <td>NaN</td>\n",
              "      <td>NaN</td>\n",
              "      <td>NaN</td>\n",
              "      <td>NaN</td>\n",
              "      <td>NaN</td>\n",
              "      <td>NaN</td>\n",
              "      <td>NaN</td>\n",
              "      <td>Yes</td>\n",
              "      <td>14.0</td>\n",
              "      <td>Man</td>\n",
              "      <td>No</td>\n",
              "    </tr>\n",
              "    <tr>\n",
              "      <th>1</th>\n",
              "      <td>2</td>\n",
              "      <td>I am a student who is learning to code</td>\n",
              "      <td>No</td>\n",
              "      <td>Not employed, but looking for work</td>\n",
              "      <td>Bosnia and Herzegovina</td>\n",
              "      <td>Yes, full-time</td>\n",
              "      <td>Secondary school (e.g. American high school, G...</td>\n",
              "      <td>NaN</td>\n",
              "      <td>Taken an online course in programming or softw...</td>\n",
              "      <td>Developer, desktop or enterprise applications;...</td>\n",
              "      <td>NaN</td>\n",
              "      <td>17</td>\n",
              "      <td>NaN</td>\n",
              "      <td>NaN</td>\n",
              "      <td>NaN</td>\n",
              "      <td>NaN</td>\n",
              "      <td>NaN</td>\n",
              "      <td>NaN</td>\n",
              "      <td>I am actively looking for a job</td>\n",
              "      <td>NaN</td>\n",
              "      <td>NaN</td>\n",
              "      <td>NaN</td>\n",
              "      <td>NaN</td>\n",
              "      <td>NaN</td>\n",
              "      <td>NaN</td>\n",
              "      <td>NaN</td>\n",
              "      <td>NaN</td>\n",
              "      <td>NaN</td>\n",
              "      <td>NaN</td>\n",
              "      <td>NaN</td>\n",
              "      <td>NaN</td>\n",
              "      <td>Yes</td>\n",
              "      <td>19.0</td>\n",
              "      <td>Man</td>\n",
              "      <td>No</td>\n",
              "    </tr>\n",
              "    <tr>\n",
              "      <th>2</th>\n",
              "      <td>3</td>\n",
              "      <td>I am not primarily a developer, but I write co...</td>\n",
              "      <td>Yes</td>\n",
              "      <td>Employed full-time</td>\n",
              "      <td>Thailand</td>\n",
              "      <td>No</td>\n",
              "      <td>Bachelor’s degree (BA, BS, B.Eng., etc.)</td>\n",
              "      <td>Web development or web design</td>\n",
              "      <td>Taught yourself a new language, framework, or ...</td>\n",
              "      <td>Designer;Developer, back-end;Developer, front-...</td>\n",
              "      <td>3</td>\n",
              "      <td>22</td>\n",
              "      <td>1</td>\n",
              "      <td>Slightly satisfied</td>\n",
              "      <td>Slightly satisfied</td>\n",
              "      <td>Not at all confident</td>\n",
              "      <td>Not sure</td>\n",
              "      <td>Not sure</td>\n",
              "      <td>I’m not actively looking, but I am open to new...</td>\n",
              "      <td>Interview with people in peer roles</td>\n",
              "      <td>40.0</td>\n",
              "      <td>There's no schedule or spec; I work on what se...</td>\n",
              "      <td>Distracting work environment;Inadequate access...</td>\n",
              "      <td>Less than once per month / Never</td>\n",
              "      <td>Home</td>\n",
              "      <td>Average</td>\n",
              "      <td>No</td>\n",
              "      <td>NaN</td>\n",
              "      <td>No, but I think we should</td>\n",
              "      <td>Not sure</td>\n",
              "      <td>I have little or no influence</td>\n",
              "      <td>Yes</td>\n",
              "      <td>28.0</td>\n",
              "      <td>Man</td>\n",
              "      <td>Yes</td>\n",
              "    </tr>\n",
              "    <tr>\n",
              "      <th>3</th>\n",
              "      <td>4</td>\n",
              "      <td>I am a developer by profession</td>\n",
              "      <td>No</td>\n",
              "      <td>Employed full-time</td>\n",
              "      <td>United States</td>\n",
              "      <td>No</td>\n",
              "      <td>Bachelor’s degree (BA, BS, B.Eng., etc.)</td>\n",
              "      <td>Computer science, computer engineering, or sof...</td>\n",
              "      <td>Taken an online course in programming or softw...</td>\n",
              "      <td>Developer, full-stack</td>\n",
              "      <td>3</td>\n",
              "      <td>16</td>\n",
              "      <td>Less than 1 year</td>\n",
              "      <td>Very satisfied</td>\n",
              "      <td>Slightly satisfied</td>\n",
              "      <td>Very confident</td>\n",
              "      <td>No</td>\n",
              "      <td>Not sure</td>\n",
              "      <td>I am not interested in new job opportunities</td>\n",
              "      <td>Write code by hand (e.g., on a whiteboard);Int...</td>\n",
              "      <td>80.0</td>\n",
              "      <td>There's no schedule or spec; I work on what se...</td>\n",
              "      <td>NaN</td>\n",
              "      <td>Less than once per month / Never</td>\n",
              "      <td>Home</td>\n",
              "      <td>A little below average</td>\n",
              "      <td>No</td>\n",
              "      <td>NaN</td>\n",
              "      <td>No, but I think we should</td>\n",
              "      <td>Developers typically have the most influence o...</td>\n",
              "      <td>I have little or no influence</td>\n",
              "      <td>Yes</td>\n",
              "      <td>22.0</td>\n",
              "      <td>Man</td>\n",
              "      <td>No</td>\n",
              "    </tr>\n",
              "    <tr>\n",
              "      <th>4</th>\n",
              "      <td>5</td>\n",
              "      <td>I am a developer by profession</td>\n",
              "      <td>Yes</td>\n",
              "      <td>Employed full-time</td>\n",
              "      <td>Ukraine</td>\n",
              "      <td>No</td>\n",
              "      <td>Bachelor’s degree (BA, BS, B.Eng., etc.)</td>\n",
              "      <td>Computer science, computer engineering, or sof...</td>\n",
              "      <td>Taken an online course in programming or softw...</td>\n",
              "      <td>Academic researcher;Developer, desktop or ente...</td>\n",
              "      <td>16</td>\n",
              "      <td>14</td>\n",
              "      <td>9</td>\n",
              "      <td>Very dissatisfied</td>\n",
              "      <td>Slightly dissatisfied</td>\n",
              "      <td>Somewhat confident</td>\n",
              "      <td>Yes</td>\n",
              "      <td>No</td>\n",
              "      <td>I am not interested in new job opportunities</td>\n",
              "      <td>Write any code;Write code by hand (e.g., on a ...</td>\n",
              "      <td>55.0</td>\n",
              "      <td>There is a schedule and/or spec (made by me or...</td>\n",
              "      <td>Being tasked with non-development work;Inadequ...</td>\n",
              "      <td>A few days each month</td>\n",
              "      <td>Office</td>\n",
              "      <td>A little above average</td>\n",
              "      <td>Yes, because I see value in code review</td>\n",
              "      <td>NaN</td>\n",
              "      <td>Yes, it's part of our process</td>\n",
              "      <td>Not sure</td>\n",
              "      <td>I have little or no influence</td>\n",
              "      <td>Yes</td>\n",
              "      <td>30.0</td>\n",
              "      <td>Man</td>\n",
              "      <td>No</td>\n",
              "    </tr>\n",
              "    <tr>\n",
              "      <th>...</th>\n",
              "      <td>...</td>\n",
              "      <td>...</td>\n",
              "      <td>...</td>\n",
              "      <td>...</td>\n",
              "      <td>...</td>\n",
              "      <td>...</td>\n",
              "      <td>...</td>\n",
              "      <td>...</td>\n",
              "      <td>...</td>\n",
              "      <td>...</td>\n",
              "      <td>...</td>\n",
              "      <td>...</td>\n",
              "      <td>...</td>\n",
              "      <td>...</td>\n",
              "      <td>...</td>\n",
              "      <td>...</td>\n",
              "      <td>...</td>\n",
              "      <td>...</td>\n",
              "      <td>...</td>\n",
              "      <td>...</td>\n",
              "      <td>...</td>\n",
              "      <td>...</td>\n",
              "      <td>...</td>\n",
              "      <td>...</td>\n",
              "      <td>...</td>\n",
              "      <td>...</td>\n",
              "      <td>...</td>\n",
              "      <td>...</td>\n",
              "      <td>...</td>\n",
              "      <td>...</td>\n",
              "      <td>...</td>\n",
              "      <td>...</td>\n",
              "      <td>...</td>\n",
              "      <td>...</td>\n",
              "      <td>...</td>\n",
              "    </tr>\n",
              "    <tr>\n",
              "      <th>88878</th>\n",
              "      <td>88377</td>\n",
              "      <td>NaN</td>\n",
              "      <td>Yes</td>\n",
              "      <td>Not employed, and not looking for work</td>\n",
              "      <td>Canada</td>\n",
              "      <td>No</td>\n",
              "      <td>Primary/elementary school</td>\n",
              "      <td>NaN</td>\n",
              "      <td>Taught yourself a new language, framework, or ...</td>\n",
              "      <td>NaN</td>\n",
              "      <td>NaN</td>\n",
              "      <td>NaN</td>\n",
              "      <td>NaN</td>\n",
              "      <td>NaN</td>\n",
              "      <td>NaN</td>\n",
              "      <td>NaN</td>\n",
              "      <td>NaN</td>\n",
              "      <td>NaN</td>\n",
              "      <td>NaN</td>\n",
              "      <td>NaN</td>\n",
              "      <td>NaN</td>\n",
              "      <td>NaN</td>\n",
              "      <td>NaN</td>\n",
              "      <td>NaN</td>\n",
              "      <td>NaN</td>\n",
              "      <td>NaN</td>\n",
              "      <td>NaN</td>\n",
              "      <td>NaN</td>\n",
              "      <td>NaN</td>\n",
              "      <td>NaN</td>\n",
              "      <td>NaN</td>\n",
              "      <td>Yes</td>\n",
              "      <td>NaN</td>\n",
              "      <td>Man</td>\n",
              "      <td>No</td>\n",
              "    </tr>\n",
              "    <tr>\n",
              "      <th>88879</th>\n",
              "      <td>88601</td>\n",
              "      <td>NaN</td>\n",
              "      <td>No</td>\n",
              "      <td>NaN</td>\n",
              "      <td>NaN</td>\n",
              "      <td>NaN</td>\n",
              "      <td>NaN</td>\n",
              "      <td>NaN</td>\n",
              "      <td>NaN</td>\n",
              "      <td>NaN</td>\n",
              "      <td>NaN</td>\n",
              "      <td>NaN</td>\n",
              "      <td>NaN</td>\n",
              "      <td>NaN</td>\n",
              "      <td>NaN</td>\n",
              "      <td>NaN</td>\n",
              "      <td>NaN</td>\n",
              "      <td>NaN</td>\n",
              "      <td>NaN</td>\n",
              "      <td>NaN</td>\n",
              "      <td>NaN</td>\n",
              "      <td>NaN</td>\n",
              "      <td>NaN</td>\n",
              "      <td>NaN</td>\n",
              "      <td>NaN</td>\n",
              "      <td>NaN</td>\n",
              "      <td>NaN</td>\n",
              "      <td>NaN</td>\n",
              "      <td>NaN</td>\n",
              "      <td>NaN</td>\n",
              "      <td>NaN</td>\n",
              "      <td>NaN</td>\n",
              "      <td>NaN</td>\n",
              "      <td>NaN</td>\n",
              "      <td>NaN</td>\n",
              "    </tr>\n",
              "    <tr>\n",
              "      <th>88880</th>\n",
              "      <td>88802</td>\n",
              "      <td>NaN</td>\n",
              "      <td>No</td>\n",
              "      <td>Employed full-time</td>\n",
              "      <td>NaN</td>\n",
              "      <td>NaN</td>\n",
              "      <td>NaN</td>\n",
              "      <td>NaN</td>\n",
              "      <td>NaN</td>\n",
              "      <td>NaN</td>\n",
              "      <td>NaN</td>\n",
              "      <td>NaN</td>\n",
              "      <td>NaN</td>\n",
              "      <td>NaN</td>\n",
              "      <td>NaN</td>\n",
              "      <td>NaN</td>\n",
              "      <td>NaN</td>\n",
              "      <td>NaN</td>\n",
              "      <td>NaN</td>\n",
              "      <td>NaN</td>\n",
              "      <td>NaN</td>\n",
              "      <td>NaN</td>\n",
              "      <td>NaN</td>\n",
              "      <td>NaN</td>\n",
              "      <td>NaN</td>\n",
              "      <td>NaN</td>\n",
              "      <td>NaN</td>\n",
              "      <td>NaN</td>\n",
              "      <td>NaN</td>\n",
              "      <td>NaN</td>\n",
              "      <td>NaN</td>\n",
              "      <td>NaN</td>\n",
              "      <td>NaN</td>\n",
              "      <td>NaN</td>\n",
              "      <td>NaN</td>\n",
              "    </tr>\n",
              "    <tr>\n",
              "      <th>88881</th>\n",
              "      <td>88816</td>\n",
              "      <td>NaN</td>\n",
              "      <td>No</td>\n",
              "      <td>Independent contractor, freelancer, or self-em...</td>\n",
              "      <td>NaN</td>\n",
              "      <td>NaN</td>\n",
              "      <td>NaN</td>\n",
              "      <td>NaN</td>\n",
              "      <td>NaN</td>\n",
              "      <td>NaN</td>\n",
              "      <td>NaN</td>\n",
              "      <td>NaN</td>\n",
              "      <td>NaN</td>\n",
              "      <td>NaN</td>\n",
              "      <td>NaN</td>\n",
              "      <td>NaN</td>\n",
              "      <td>NaN</td>\n",
              "      <td>NaN</td>\n",
              "      <td>NaN</td>\n",
              "      <td>NaN</td>\n",
              "      <td>NaN</td>\n",
              "      <td>NaN</td>\n",
              "      <td>NaN</td>\n",
              "      <td>NaN</td>\n",
              "      <td>NaN</td>\n",
              "      <td>NaN</td>\n",
              "      <td>NaN</td>\n",
              "      <td>NaN</td>\n",
              "      <td>NaN</td>\n",
              "      <td>NaN</td>\n",
              "      <td>NaN</td>\n",
              "      <td>NaN</td>\n",
              "      <td>NaN</td>\n",
              "      <td>NaN</td>\n",
              "      <td>NaN</td>\n",
              "    </tr>\n",
              "    <tr>\n",
              "      <th>88882</th>\n",
              "      <td>88863</td>\n",
              "      <td>NaN</td>\n",
              "      <td>Yes</td>\n",
              "      <td>Not employed, and not looking for work</td>\n",
              "      <td>Spain</td>\n",
              "      <td>Yes, full-time</td>\n",
              "      <td>Professional degree (JD, MD, etc.)</td>\n",
              "      <td>Computer science, computer engineering, or sof...</td>\n",
              "      <td>Taken an online course in programming or softw...</td>\n",
              "      <td>NaN</td>\n",
              "      <td>8</td>\n",
              "      <td>11</td>\n",
              "      <td>3</td>\n",
              "      <td>NaN</td>\n",
              "      <td>NaN</td>\n",
              "      <td>NaN</td>\n",
              "      <td>NaN</td>\n",
              "      <td>NaN</td>\n",
              "      <td>NaN</td>\n",
              "      <td>NaN</td>\n",
              "      <td>NaN</td>\n",
              "      <td>NaN</td>\n",
              "      <td>NaN</td>\n",
              "      <td>NaN</td>\n",
              "      <td>NaN</td>\n",
              "      <td>NaN</td>\n",
              "      <td>NaN</td>\n",
              "      <td>NaN</td>\n",
              "      <td>NaN</td>\n",
              "      <td>NaN</td>\n",
              "      <td>NaN</td>\n",
              "      <td>Yes</td>\n",
              "      <td>18.0</td>\n",
              "      <td>Man</td>\n",
              "      <td>No</td>\n",
              "    </tr>\n",
              "  </tbody>\n",
              "</table>\n",
              "<p>88883 rows × 35 columns</p>\n",
              "</div>"
            ],
            "text/plain": [
              "       Respondent                                         MainBranch Hobbyist  \\\n",
              "0               1             I am a student who is learning to code      Yes   \n",
              "1               2             I am a student who is learning to code       No   \n",
              "2               3  I am not primarily a developer, but I write co...      Yes   \n",
              "3               4                     I am a developer by profession       No   \n",
              "4               5                     I am a developer by profession      Yes   \n",
              "...           ...                                                ...      ...   \n",
              "88878       88377                                                NaN      Yes   \n",
              "88879       88601                                                NaN       No   \n",
              "88880       88802                                                NaN       No   \n",
              "88881       88816                                                NaN       No   \n",
              "88882       88863                                                NaN      Yes   \n",
              "\n",
              "                                              Employment  \\\n",
              "0                 Not employed, and not looking for work   \n",
              "1                     Not employed, but looking for work   \n",
              "2                                     Employed full-time   \n",
              "3                                     Employed full-time   \n",
              "4                                     Employed full-time   \n",
              "...                                                  ...   \n",
              "88878             Not employed, and not looking for work   \n",
              "88879                                                NaN   \n",
              "88880                                 Employed full-time   \n",
              "88881  Independent contractor, freelancer, or self-em...   \n",
              "88882             Not employed, and not looking for work   \n",
              "\n",
              "                      Country         Student  \\\n",
              "0              United Kingdom              No   \n",
              "1      Bosnia and Herzegovina  Yes, full-time   \n",
              "2                    Thailand              No   \n",
              "3               United States              No   \n",
              "4                     Ukraine              No   \n",
              "...                       ...             ...   \n",
              "88878                  Canada              No   \n",
              "88879                     NaN             NaN   \n",
              "88880                     NaN             NaN   \n",
              "88881                     NaN             NaN   \n",
              "88882                   Spain  Yes, full-time   \n",
              "\n",
              "                                                 EdLevel  \\\n",
              "0                              Primary/elementary school   \n",
              "1      Secondary school (e.g. American high school, G...   \n",
              "2               Bachelor’s degree (BA, BS, B.Eng., etc.)   \n",
              "3               Bachelor’s degree (BA, BS, B.Eng., etc.)   \n",
              "4               Bachelor’s degree (BA, BS, B.Eng., etc.)   \n",
              "...                                                  ...   \n",
              "88878                          Primary/elementary school   \n",
              "88879                                                NaN   \n",
              "88880                                                NaN   \n",
              "88881                                                NaN   \n",
              "88882                 Professional degree (JD, MD, etc.)   \n",
              "\n",
              "                                          UndergradMajor  \\\n",
              "0                                                    NaN   \n",
              "1                                                    NaN   \n",
              "2                          Web development or web design   \n",
              "3      Computer science, computer engineering, or sof...   \n",
              "4      Computer science, computer engineering, or sof...   \n",
              "...                                                  ...   \n",
              "88878                                                NaN   \n",
              "88879                                                NaN   \n",
              "88880                                                NaN   \n",
              "88881                                                NaN   \n",
              "88882  Computer science, computer engineering, or sof...   \n",
              "\n",
              "                                                EduOther  \\\n",
              "0      Taught yourself a new language, framework, or ...   \n",
              "1      Taken an online course in programming or softw...   \n",
              "2      Taught yourself a new language, framework, or ...   \n",
              "3      Taken an online course in programming or softw...   \n",
              "4      Taken an online course in programming or softw...   \n",
              "...                                                  ...   \n",
              "88878  Taught yourself a new language, framework, or ...   \n",
              "88879                                                NaN   \n",
              "88880                                                NaN   \n",
              "88881                                                NaN   \n",
              "88882  Taken an online course in programming or softw...   \n",
              "\n",
              "                                                 DevType YearsCode Age1stCode  \\\n",
              "0                                                    NaN         4         10   \n",
              "1      Developer, desktop or enterprise applications;...       NaN         17   \n",
              "2      Designer;Developer, back-end;Developer, front-...         3         22   \n",
              "3                                  Developer, full-stack         3         16   \n",
              "4      Academic researcher;Developer, desktop or ente...        16         14   \n",
              "...                                                  ...       ...        ...   \n",
              "88878                                                NaN       NaN        NaN   \n",
              "88879                                                NaN       NaN        NaN   \n",
              "88880                                                NaN       NaN        NaN   \n",
              "88881                                                NaN       NaN        NaN   \n",
              "88882                                                NaN         8         11   \n",
              "\n",
              "           YearsCodePro           CareerSat                 JobSat  \\\n",
              "0                   NaN                 NaN                    NaN   \n",
              "1                   NaN                 NaN                    NaN   \n",
              "2                     1  Slightly satisfied     Slightly satisfied   \n",
              "3      Less than 1 year      Very satisfied     Slightly satisfied   \n",
              "4                     9   Very dissatisfied  Slightly dissatisfied   \n",
              "...                 ...                 ...                    ...   \n",
              "88878               NaN                 NaN                    NaN   \n",
              "88879               NaN                 NaN                    NaN   \n",
              "88880               NaN                 NaN                    NaN   \n",
              "88881               NaN                 NaN                    NaN   \n",
              "88882                 3                 NaN                    NaN   \n",
              "\n",
              "      Confidence_of_Manager Become_Manager_for_Money Want_to_become_manager  \\\n",
              "0                       NaN                      NaN                    NaN   \n",
              "1                       NaN                      NaN                    NaN   \n",
              "2      Not at all confident                 Not sure               Not sure   \n",
              "3            Very confident                       No               Not sure   \n",
              "4        Somewhat confident                      Yes                     No   \n",
              "...                     ...                      ...                    ...   \n",
              "88878                   NaN                      NaN                    NaN   \n",
              "88879                   NaN                      NaN                    NaN   \n",
              "88880                   NaN                      NaN                    NaN   \n",
              "88881                   NaN                      NaN                    NaN   \n",
              "88882                   NaN                      NaN                    NaN   \n",
              "\n",
              "                                                 JobSeek  \\\n",
              "0                                                    NaN   \n",
              "1                        I am actively looking for a job   \n",
              "2      I’m not actively looking, but I am open to new...   \n",
              "3           I am not interested in new job opportunities   \n",
              "4           I am not interested in new job opportunities   \n",
              "...                                                  ...   \n",
              "88878                                                NaN   \n",
              "88879                                                NaN   \n",
              "88880                                                NaN   \n",
              "88881                                                NaN   \n",
              "88882                                                NaN   \n",
              "\n",
              "                                          Last_Interview  WorkWeekHrs  \\\n",
              "0                                                    NaN          NaN   \n",
              "1                                                    NaN          NaN   \n",
              "2                    Interview with people in peer roles         40.0   \n",
              "3      Write code by hand (e.g., on a whiteboard);Int...         80.0   \n",
              "4      Write any code;Write code by hand (e.g., on a ...         55.0   \n",
              "...                                                  ...          ...   \n",
              "88878                                                NaN          NaN   \n",
              "88879                                                NaN          NaN   \n",
              "88880                                                NaN          NaN   \n",
              "88881                                                NaN          NaN   \n",
              "88882                                                NaN          NaN   \n",
              "\n",
              "                                                WorkPlan  \\\n",
              "0                                                    NaN   \n",
              "1                                                    NaN   \n",
              "2      There's no schedule or spec; I work on what se...   \n",
              "3      There's no schedule or spec; I work on what se...   \n",
              "4      There is a schedule and/or spec (made by me or...   \n",
              "...                                                  ...   \n",
              "88878                                                NaN   \n",
              "88879                                                NaN   \n",
              "88880                                                NaN   \n",
              "88881                                                NaN   \n",
              "88882                                                NaN   \n",
              "\n",
              "                                           WorkChallenge  \\\n",
              "0                                                    NaN   \n",
              "1                                                    NaN   \n",
              "2      Distracting work environment;Inadequate access...   \n",
              "3                                                    NaN   \n",
              "4      Being tasked with non-development work;Inadequ...   \n",
              "...                                                  ...   \n",
              "88878                                                NaN   \n",
              "88879                                                NaN   \n",
              "88880                                                NaN   \n",
              "88881                                                NaN   \n",
              "88882                                                NaN   \n",
              "\n",
              "                             WorkRemote WorkLocPreference  \\\n",
              "0                                   NaN               NaN   \n",
              "1                                   NaN               NaN   \n",
              "2      Less than once per month / Never              Home   \n",
              "3      Less than once per month / Never              Home   \n",
              "4                 A few days each month            Office   \n",
              "...                                 ...               ...   \n",
              "88878                               NaN               NaN   \n",
              "88879                               NaN               NaN   \n",
              "88880                               NaN               NaN   \n",
              "88881                               NaN               NaN   \n",
              "88882                               NaN               NaN   \n",
              "\n",
              "          Competence_for_Work                                  CodeRev  \\\n",
              "0                         NaN                                      NaN   \n",
              "1                         NaN                                      NaN   \n",
              "2                     Average                                       No   \n",
              "3      A little below average                                       No   \n",
              "4      A little above average  Yes, because I see value in code review   \n",
              "...                       ...                                      ...   \n",
              "88878                     NaN                                      NaN   \n",
              "88879                     NaN                                      NaN   \n",
              "88880                     NaN                                      NaN   \n",
              "88881                     NaN                                      NaN   \n",
              "88882                     NaN                                      NaN   \n",
              "\n",
              "       CodeRevHrs                      UnitTests  \\\n",
              "0             NaN                            NaN   \n",
              "1             NaN                            NaN   \n",
              "2             NaN      No, but I think we should   \n",
              "3             NaN      No, but I think we should   \n",
              "4             NaN  Yes, it's part of our process   \n",
              "...           ...                            ...   \n",
              "88878         NaN                            NaN   \n",
              "88879         NaN                            NaN   \n",
              "88880         NaN                            NaN   \n",
              "88881         NaN                            NaN   \n",
              "88882         NaN                            NaN   \n",
              "\n",
              "                                             PurchaseHow  \\\n",
              "0                                                    NaN   \n",
              "1                                                    NaN   \n",
              "2                                               Not sure   \n",
              "3      Developers typically have the most influence o...   \n",
              "4                                               Not sure   \n",
              "...                                                  ...   \n",
              "88878                                                NaN   \n",
              "88879                                                NaN   \n",
              "88880                                                NaN   \n",
              "88881                                                NaN   \n",
              "88882                                                NaN   \n",
              "\n",
              "                  Purchase_Influence BetterLife   Age Gender Dependents  \n",
              "0                                NaN        Yes  14.0    Man         No  \n",
              "1                                NaN        Yes  19.0    Man         No  \n",
              "2      I have little or no influence        Yes  28.0    Man        Yes  \n",
              "3      I have little or no influence        Yes  22.0    Man         No  \n",
              "4      I have little or no influence        Yes  30.0    Man         No  \n",
              "...                              ...        ...   ...    ...        ...  \n",
              "88878                            NaN        Yes   NaN    Man         No  \n",
              "88879                            NaN        NaN   NaN    NaN        NaN  \n",
              "88880                            NaN        NaN   NaN    NaN        NaN  \n",
              "88881                            NaN        NaN   NaN    NaN        NaN  \n",
              "88882                            NaN        Yes  18.0    Man         No  \n",
              "\n",
              "[88883 rows x 35 columns]"
            ]
          },
          "metadata": {
            "tags": []
          },
          "execution_count": 18
        }
      ]
    },
    {
      "cell_type": "code",
      "metadata": {
        "colab": {
          "base_uri": "https://localhost:8080/",
          "height": 181
        },
        "id": "A5d9askKvPI0",
        "outputId": "f5517ad1-f21d-4de5-a5f9-7b8b8dc27855"
      },
      "source": [
        "df[0:1]"
      ],
      "execution_count": null,
      "outputs": [
        {
          "output_type": "execute_result",
          "data": {
            "text/html": [
              "<div>\n",
              "<style scoped>\n",
              "    .dataframe tbody tr th:only-of-type {\n",
              "        vertical-align: middle;\n",
              "    }\n",
              "\n",
              "    .dataframe tbody tr th {\n",
              "        vertical-align: top;\n",
              "    }\n",
              "\n",
              "    .dataframe thead th {\n",
              "        text-align: right;\n",
              "    }\n",
              "</style>\n",
              "<table border=\"1\" class=\"dataframe\">\n",
              "  <thead>\n",
              "    <tr style=\"text-align: right;\">\n",
              "      <th></th>\n",
              "      <th>Respondent</th>\n",
              "      <th>MainBranch</th>\n",
              "      <th>Hobbyist</th>\n",
              "      <th>Employment</th>\n",
              "      <th>Country</th>\n",
              "      <th>Student</th>\n",
              "      <th>EdLevel</th>\n",
              "      <th>UndergradMajor</th>\n",
              "      <th>EduOther</th>\n",
              "      <th>DevType</th>\n",
              "      <th>YearsCode</th>\n",
              "      <th>Age1stCode</th>\n",
              "      <th>YearsCodePro</th>\n",
              "      <th>CareerSat</th>\n",
              "      <th>JobSat</th>\n",
              "      <th>Confidence_of_Manager</th>\n",
              "      <th>Become_Manager_for_Money</th>\n",
              "      <th>Want_to_become_manager</th>\n",
              "      <th>JobSeek</th>\n",
              "      <th>Last_Interview</th>\n",
              "      <th>WorkWeekHrs</th>\n",
              "      <th>WorkPlan</th>\n",
              "      <th>WorkChallenge</th>\n",
              "      <th>WorkRemote</th>\n",
              "      <th>WorkLocPreference</th>\n",
              "      <th>Competence_for_Work</th>\n",
              "      <th>CodeRev</th>\n",
              "      <th>CodeRevHrs</th>\n",
              "      <th>UnitTests</th>\n",
              "      <th>PurchaseHow</th>\n",
              "      <th>Purchase_Influence</th>\n",
              "      <th>BetterLife</th>\n",
              "      <th>Age</th>\n",
              "      <th>Gender</th>\n",
              "      <th>Dependents</th>\n",
              "    </tr>\n",
              "  </thead>\n",
              "  <tbody>\n",
              "    <tr>\n",
              "      <th>0</th>\n",
              "      <td>1</td>\n",
              "      <td>I am a student who is learning to code</td>\n",
              "      <td>Yes</td>\n",
              "      <td>Not employed, and not looking for work</td>\n",
              "      <td>United Kingdom</td>\n",
              "      <td>No</td>\n",
              "      <td>Primary/elementary school</td>\n",
              "      <td>NaN</td>\n",
              "      <td>Taught yourself a new language, framework, or ...</td>\n",
              "      <td>NaN</td>\n",
              "      <td>4</td>\n",
              "      <td>10</td>\n",
              "      <td>NaN</td>\n",
              "      <td>NaN</td>\n",
              "      <td>NaN</td>\n",
              "      <td>NaN</td>\n",
              "      <td>NaN</td>\n",
              "      <td>NaN</td>\n",
              "      <td>NaN</td>\n",
              "      <td>NaN</td>\n",
              "      <td>NaN</td>\n",
              "      <td>NaN</td>\n",
              "      <td>NaN</td>\n",
              "      <td>NaN</td>\n",
              "      <td>NaN</td>\n",
              "      <td>NaN</td>\n",
              "      <td>NaN</td>\n",
              "      <td>NaN</td>\n",
              "      <td>NaN</td>\n",
              "      <td>NaN</td>\n",
              "      <td>NaN</td>\n",
              "      <td>Yes</td>\n",
              "      <td>14.0</td>\n",
              "      <td>Man</td>\n",
              "      <td>No</td>\n",
              "    </tr>\n",
              "  </tbody>\n",
              "</table>\n",
              "</div>"
            ],
            "text/plain": [
              "   Respondent                              MainBranch Hobbyist  \\\n",
              "0           1  I am a student who is learning to code      Yes   \n",
              "\n",
              "                               Employment         Country Student  \\\n",
              "0  Not employed, and not looking for work  United Kingdom      No   \n",
              "\n",
              "                     EdLevel UndergradMajor  \\\n",
              "0  Primary/elementary school            NaN   \n",
              "\n",
              "                                            EduOther DevType YearsCode  \\\n",
              "0  Taught yourself a new language, framework, or ...     NaN         4   \n",
              "\n",
              "  Age1stCode YearsCodePro CareerSat JobSat Confidence_of_Manager  \\\n",
              "0         10          NaN       NaN    NaN                   NaN   \n",
              "\n",
              "  Become_Manager_for_Money Want_to_become_manager JobSeek Last_Interview  \\\n",
              "0                      NaN                    NaN     NaN            NaN   \n",
              "\n",
              "   WorkWeekHrs WorkPlan WorkChallenge WorkRemote WorkLocPreference  \\\n",
              "0          NaN      NaN           NaN        NaN               NaN   \n",
              "\n",
              "  Competence_for_Work CodeRev  CodeRevHrs UnitTests PurchaseHow  \\\n",
              "0                 NaN     NaN         NaN       NaN         NaN   \n",
              "\n",
              "  Purchase_Influence BetterLife   Age Gender Dependents  \n",
              "0                NaN        Yes  14.0    Man         No  "
            ]
          },
          "metadata": {
            "tags": []
          },
          "execution_count": 19
        }
      ]
    },
    {
      "cell_type": "code",
      "metadata": {
        "colab": {
          "base_uri": "https://localhost:8080/"
        },
        "id": "4FYeqw8gvPI0",
        "outputId": "08e78c44-ffa3-4ad7-e5f7-2afd955cd8ff"
      },
      "source": [
        "df['Employment'].unique().tolist()"
      ],
      "execution_count": null,
      "outputs": [
        {
          "output_type": "execute_result",
          "data": {
            "text/plain": [
              "['Not employed, and not looking for work',\n",
              " 'Not employed, but looking for work',\n",
              " 'Employed full-time',\n",
              " 'Independent contractor, freelancer, or self-employed',\n",
              " nan,\n",
              " 'Employed part-time',\n",
              " 'Retired']"
            ]
          },
          "metadata": {
            "tags": []
          },
          "execution_count": 20
        }
      ]
    },
    {
      "cell_type": "code",
      "metadata": {
        "colab": {
          "base_uri": "https://localhost:8080/"
        },
        "id": "rjQF00Cr-P-i",
        "outputId": "a1085aa0-3f11-4498-d386-286ef546aea1"
      },
      "source": [
        "df.dtypes"
      ],
      "execution_count": null,
      "outputs": [
        {
          "output_type": "execute_result",
          "data": {
            "text/plain": [
              "Respondent                    int64\n",
              "MainBranch                   object\n",
              "Hobbyist                     object\n",
              "Employment                   object\n",
              "Country                      object\n",
              "Student                      object\n",
              "EdLevel                      object\n",
              "UndergradMajor               object\n",
              "EduOther                     object\n",
              "DevType                      object\n",
              "YearsCode                    object\n",
              "Age1stCode                   object\n",
              "YearsCodePro                 object\n",
              "CareerSat                    object\n",
              "JobSat                       object\n",
              "Confidence_of_Manager        object\n",
              "Become_Manager_for_Money     object\n",
              "Want_to_become_manager       object\n",
              "JobSeek                      object\n",
              "Last_Interview               object\n",
              "WorkWeekHrs                 float64\n",
              "WorkPlan                     object\n",
              "WorkChallenge                object\n",
              "WorkRemote                   object\n",
              "WorkLocPreference            object\n",
              "Competence_for_Work          object\n",
              "CodeRev                      object\n",
              "CodeRevHrs                  float64\n",
              "UnitTests                    object\n",
              "PurchaseHow                  object\n",
              "Purchase_Influence           object\n",
              "BetterLife                   object\n",
              "Age                         float64\n",
              "Gender                       object\n",
              "Dependents                   object\n",
              "dtype: object"
            ]
          },
          "metadata": {
            "tags": []
          },
          "execution_count": 21
        }
      ]
    },
    {
      "cell_type": "code",
      "metadata": {
        "id": "M8nuaaFjSqzU"
      },
      "source": [
        "df['YearsCode'] = pd.to_numeric(df['YearsCode'],errors = 'coerce')\n",
        "df['Age1stCode'] = pd.to_numeric(df['Age1stCode'],errors = 'coerce')\n",
        "df['YearsCodePro'] = pd.to_numeric(df['YearsCodePro'],errors = 'coerce')"
      ],
      "execution_count": null,
      "outputs": []
    },
    {
      "cell_type": "code",
      "metadata": {
        "colab": {
          "base_uri": "https://localhost:8080/"
        },
        "id": "GGAYgt09Ssmv",
        "outputId": "8825b720-597b-4f2c-dff8-9bd14f33e76b"
      },
      "source": [
        "df.dtypes"
      ],
      "execution_count": null,
      "outputs": [
        {
          "output_type": "execute_result",
          "data": {
            "text/plain": [
              "Respondent                    int64\n",
              "MainBranch                   object\n",
              "Hobbyist                     object\n",
              "Employment                   object\n",
              "Country                      object\n",
              "Student                      object\n",
              "EdLevel                      object\n",
              "UndergradMajor               object\n",
              "EduOther                     object\n",
              "DevType                      object\n",
              "YearsCode                   float64\n",
              "Age1stCode                  float64\n",
              "YearsCodePro                float64\n",
              "CareerSat                    object\n",
              "JobSat                       object\n",
              "Confidence_of_Manager        object\n",
              "Become_Manager_for_Money     object\n",
              "Want_to_become_manager       object\n",
              "JobSeek                      object\n",
              "Last_Interview               object\n",
              "WorkWeekHrs                 float64\n",
              "WorkPlan                     object\n",
              "WorkChallenge                object\n",
              "WorkRemote                   object\n",
              "WorkLocPreference            object\n",
              "Competence_for_Work          object\n",
              "CodeRev                      object\n",
              "CodeRevHrs                  float64\n",
              "UnitTests                    object\n",
              "PurchaseHow                  object\n",
              "Purchase_Influence           object\n",
              "BetterLife                   object\n",
              "Age                         float64\n",
              "Gender                       object\n",
              "Dependents                   object\n",
              "dtype: object"
            ]
          },
          "metadata": {
            "tags": []
          },
          "execution_count": 23
        }
      ]
    },
    {
      "cell_type": "code",
      "metadata": {
        "colab": {
          "base_uri": "https://localhost:8080/",
          "height": 284
        },
        "id": "-5ucDDNHUBY9",
        "outputId": "e819df6c-3f06-4ce8-8199-7c8cbd04a18d"
      },
      "source": [
        "df.describe()"
      ],
      "execution_count": null,
      "outputs": [
        {
          "output_type": "execute_result",
          "data": {
            "text/html": [
              "<div>\n",
              "<style scoped>\n",
              "    .dataframe tbody tr th:only-of-type {\n",
              "        vertical-align: middle;\n",
              "    }\n",
              "\n",
              "    .dataframe tbody tr th {\n",
              "        vertical-align: top;\n",
              "    }\n",
              "\n",
              "    .dataframe thead th {\n",
              "        text-align: right;\n",
              "    }\n",
              "</style>\n",
              "<table border=\"1\" class=\"dataframe\">\n",
              "  <thead>\n",
              "    <tr style=\"text-align: right;\">\n",
              "      <th></th>\n",
              "      <th>Respondent</th>\n",
              "      <th>YearsCode</th>\n",
              "      <th>Age1stCode</th>\n",
              "      <th>YearsCodePro</th>\n",
              "      <th>WorkWeekHrs</th>\n",
              "      <th>CodeRevHrs</th>\n",
              "      <th>Age</th>\n",
              "    </tr>\n",
              "  </thead>\n",
              "  <tbody>\n",
              "    <tr>\n",
              "      <th>count</th>\n",
              "      <td>88883.000000</td>\n",
              "      <td>86445.000000</td>\n",
              "      <td>87088.000000</td>\n",
              "      <td>70285.000000</td>\n",
              "      <td>64503.000000</td>\n",
              "      <td>49790.000000</td>\n",
              "      <td>79210.000000</td>\n",
              "    </tr>\n",
              "    <tr>\n",
              "      <th>mean</th>\n",
              "      <td>44442.000000</td>\n",
              "      <td>11.789195</td>\n",
              "      <td>15.456446</td>\n",
              "      <td>8.590311</td>\n",
              "      <td>42.127197</td>\n",
              "      <td>5.084308</td>\n",
              "      <td>30.336699</td>\n",
              "    </tr>\n",
              "    <tr>\n",
              "      <th>std</th>\n",
              "      <td>25658.456325</td>\n",
              "      <td>8.988751</td>\n",
              "      <td>4.993287</td>\n",
              "      <td>7.533009</td>\n",
              "      <td>37.287610</td>\n",
              "      <td>5.513931</td>\n",
              "      <td>9.178390</td>\n",
              "    </tr>\n",
              "    <tr>\n",
              "      <th>min</th>\n",
              "      <td>1.000000</td>\n",
              "      <td>1.000000</td>\n",
              "      <td>5.000000</td>\n",
              "      <td>1.000000</td>\n",
              "      <td>1.000000</td>\n",
              "      <td>0.000000</td>\n",
              "      <td>1.000000</td>\n",
              "    </tr>\n",
              "    <tr>\n",
              "      <th>25%</th>\n",
              "      <td>22221.500000</td>\n",
              "      <td>5.000000</td>\n",
              "      <td>12.000000</td>\n",
              "      <td>3.000000</td>\n",
              "      <td>40.000000</td>\n",
              "      <td>2.000000</td>\n",
              "      <td>24.000000</td>\n",
              "    </tr>\n",
              "    <tr>\n",
              "      <th>50%</th>\n",
              "      <td>44442.000000</td>\n",
              "      <td>9.000000</td>\n",
              "      <td>15.000000</td>\n",
              "      <td>6.000000</td>\n",
              "      <td>40.000000</td>\n",
              "      <td>4.000000</td>\n",
              "      <td>29.000000</td>\n",
              "    </tr>\n",
              "    <tr>\n",
              "      <th>75%</th>\n",
              "      <td>66662.500000</td>\n",
              "      <td>16.000000</td>\n",
              "      <td>18.000000</td>\n",
              "      <td>12.000000</td>\n",
              "      <td>44.750000</td>\n",
              "      <td>6.000000</td>\n",
              "      <td>35.000000</td>\n",
              "    </tr>\n",
              "    <tr>\n",
              "      <th>max</th>\n",
              "      <td>88883.000000</td>\n",
              "      <td>50.000000</td>\n",
              "      <td>84.000000</td>\n",
              "      <td>50.000000</td>\n",
              "      <td>4850.000000</td>\n",
              "      <td>99.000000</td>\n",
              "      <td>99.000000</td>\n",
              "    </tr>\n",
              "  </tbody>\n",
              "</table>\n",
              "</div>"
            ],
            "text/plain": [
              "         Respondent     YearsCode    Age1stCode  YearsCodePro   WorkWeekHrs  \\\n",
              "count  88883.000000  86445.000000  87088.000000  70285.000000  64503.000000   \n",
              "mean   44442.000000     11.789195     15.456446      8.590311     42.127197   \n",
              "std    25658.456325      8.988751      4.993287      7.533009     37.287610   \n",
              "min        1.000000      1.000000      5.000000      1.000000      1.000000   \n",
              "25%    22221.500000      5.000000     12.000000      3.000000     40.000000   \n",
              "50%    44442.000000      9.000000     15.000000      6.000000     40.000000   \n",
              "75%    66662.500000     16.000000     18.000000     12.000000     44.750000   \n",
              "max    88883.000000     50.000000     84.000000     50.000000   4850.000000   \n",
              "\n",
              "         CodeRevHrs           Age  \n",
              "count  49790.000000  79210.000000  \n",
              "mean       5.084308     30.336699  \n",
              "std        5.513931      9.178390  \n",
              "min        0.000000      1.000000  \n",
              "25%        2.000000     24.000000  \n",
              "50%        4.000000     29.000000  \n",
              "75%        6.000000     35.000000  \n",
              "max       99.000000     99.000000  "
            ]
          },
          "metadata": {
            "tags": []
          },
          "execution_count": 24
        }
      ]
    },
    {
      "cell_type": "code",
      "metadata": {
        "id": "J4ruhcLgUHsX"
      },
      "source": [
        "#df.drop((df.Age<10 & df.Age >80), inplace= True)\n",
        "df.drop(df[(df.Age < 10)].index, inplace=True)\n",
        "df.drop(df[(df.Age > 80)].index, inplace=True)\n",
        "df.drop(df[(df.Age1stCode < 10) & (df.Age1stCode > 80)].index, inplace=True)\n",
        "df.drop(df[(df.WorkWeekHrs > 90)].index, inplace=True)\n",
        "df.drop(df[(df.CodeRevHrs > 90)].index, inplace=True)\n"
      ],
      "execution_count": null,
      "outputs": []
    },
    {
      "cell_type": "code",
      "metadata": {
        "colab": {
          "base_uri": "https://localhost:8080/",
          "height": 284
        },
        "id": "bxBIlviiUJGc",
        "outputId": "66753129-5b5e-4420-cb27-9b4e1b81c0cc"
      },
      "source": [
        "df.describe()"
      ],
      "execution_count": null,
      "outputs": [
        {
          "output_type": "execute_result",
          "data": {
            "text/html": [
              "<div>\n",
              "<style scoped>\n",
              "    .dataframe tbody tr th:only-of-type {\n",
              "        vertical-align: middle;\n",
              "    }\n",
              "\n",
              "    .dataframe tbody tr th {\n",
              "        vertical-align: top;\n",
              "    }\n",
              "\n",
              "    .dataframe thead th {\n",
              "        text-align: right;\n",
              "    }\n",
              "</style>\n",
              "<table border=\"1\" class=\"dataframe\">\n",
              "  <thead>\n",
              "    <tr style=\"text-align: right;\">\n",
              "      <th></th>\n",
              "      <th>Respondent</th>\n",
              "      <th>YearsCode</th>\n",
              "      <th>Age1stCode</th>\n",
              "      <th>YearsCodePro</th>\n",
              "      <th>WorkWeekHrs</th>\n",
              "      <th>CodeRevHrs</th>\n",
              "      <th>Age</th>\n",
              "    </tr>\n",
              "  </thead>\n",
              "  <tbody>\n",
              "    <tr>\n",
              "      <th>count</th>\n",
              "      <td>88212.000000</td>\n",
              "      <td>85808.000000</td>\n",
              "      <td>86443.000000</td>\n",
              "      <td>69687.000000</td>\n",
              "      <td>63886.000000</td>\n",
              "      <td>49359.000000</td>\n",
              "      <td>78581.000000</td>\n",
              "    </tr>\n",
              "    <tr>\n",
              "      <th>mean</th>\n",
              "      <td>44451.841133</td>\n",
              "      <td>11.790544</td>\n",
              "      <td>15.454785</td>\n",
              "      <td>8.597859</td>\n",
              "      <td>40.216500</td>\n",
              "      <td>5.031497</td>\n",
              "      <td>30.315000</td>\n",
              "    </tr>\n",
              "    <tr>\n",
              "      <th>std</th>\n",
              "      <td>25659.538407</td>\n",
              "      <td>8.995171</td>\n",
              "      <td>4.969058</td>\n",
              "      <td>7.537609</td>\n",
              "      <td>9.578836</td>\n",
              "      <td>5.126054</td>\n",
              "      <td>9.050803</td>\n",
              "    </tr>\n",
              "    <tr>\n",
              "      <th>min</th>\n",
              "      <td>1.000000</td>\n",
              "      <td>1.000000</td>\n",
              "      <td>5.000000</td>\n",
              "      <td>1.000000</td>\n",
              "      <td>1.000000</td>\n",
              "      <td>0.000000</td>\n",
              "      <td>10.000000</td>\n",
              "    </tr>\n",
              "    <tr>\n",
              "      <th>25%</th>\n",
              "      <td>22230.750000</td>\n",
              "      <td>5.000000</td>\n",
              "      <td>12.000000</td>\n",
              "      <td>3.000000</td>\n",
              "      <td>40.000000</td>\n",
              "      <td>2.000000</td>\n",
              "      <td>24.000000</td>\n",
              "    </tr>\n",
              "    <tr>\n",
              "      <th>50%</th>\n",
              "      <td>44459.500000</td>\n",
              "      <td>9.000000</td>\n",
              "      <td>15.000000</td>\n",
              "      <td>6.000000</td>\n",
              "      <td>40.000000</td>\n",
              "      <td>4.000000</td>\n",
              "      <td>29.000000</td>\n",
              "    </tr>\n",
              "    <tr>\n",
              "      <th>75%</th>\n",
              "      <td>66679.250000</td>\n",
              "      <td>16.000000</td>\n",
              "      <td>18.000000</td>\n",
              "      <td>12.000000</td>\n",
              "      <td>44.000000</td>\n",
              "      <td>6.000000</td>\n",
              "      <td>35.000000</td>\n",
              "    </tr>\n",
              "    <tr>\n",
              "      <th>max</th>\n",
              "      <td>88883.000000</td>\n",
              "      <td>50.000000</td>\n",
              "      <td>80.000000</td>\n",
              "      <td>50.000000</td>\n",
              "      <td>90.000000</td>\n",
              "      <td>90.000000</td>\n",
              "      <td>80.000000</td>\n",
              "    </tr>\n",
              "  </tbody>\n",
              "</table>\n",
              "</div>"
            ],
            "text/plain": [
              "         Respondent     YearsCode    Age1stCode  YearsCodePro   WorkWeekHrs  \\\n",
              "count  88212.000000  85808.000000  86443.000000  69687.000000  63886.000000   \n",
              "mean   44451.841133     11.790544     15.454785      8.597859     40.216500   \n",
              "std    25659.538407      8.995171      4.969058      7.537609      9.578836   \n",
              "min        1.000000      1.000000      5.000000      1.000000      1.000000   \n",
              "25%    22230.750000      5.000000     12.000000      3.000000     40.000000   \n",
              "50%    44459.500000      9.000000     15.000000      6.000000     40.000000   \n",
              "75%    66679.250000     16.000000     18.000000     12.000000     44.000000   \n",
              "max    88883.000000     50.000000     80.000000     50.000000     90.000000   \n",
              "\n",
              "         CodeRevHrs           Age  \n",
              "count  49359.000000  78581.000000  \n",
              "mean       5.031497     30.315000  \n",
              "std        5.126054      9.050803  \n",
              "min        0.000000     10.000000  \n",
              "25%        2.000000     24.000000  \n",
              "50%        4.000000     29.000000  \n",
              "75%        6.000000     35.000000  \n",
              "max       90.000000     80.000000  "
            ]
          },
          "metadata": {
            "tags": []
          },
          "execution_count": 26
        }
      ]
    },
    {
      "cell_type": "markdown",
      "metadata": {
        "id": "L2ZMoOoSkJrT"
      },
      "source": [
        "## **Visualing Data**\n",
        "\n",
        "\n",
        "\n"
      ]
    },
    {
      "cell_type": "code",
      "metadata": {
        "id": "Ia4Nt6bXWfwb"
      },
      "source": [
        "new_df = df.groupby(df.MainBranch)\n",
        "yes = []\n",
        "no = []\n",
        "mainbranch =  []\n",
        "for x,y in new_df:\n",
        "  inner_df = y['Hobbyist'].value_counts()\n",
        "  yes.append(inner_df.get('Yes'))\n",
        "  no.append(inner_df.get('No'))\n",
        "  mainbranch.append(x)\n"
      ],
      "execution_count": null,
      "outputs": []
    },
    {
      "cell_type": "code",
      "metadata": {
        "colab": {
          "base_uri": "https://localhost:8080/"
        },
        "id": "O5nMiaZ-WfzL",
        "outputId": "06d6f0ae-57ec-472e-a112-2252c0fb85b8"
      },
      "source": [
        "print(\"Yes Count is :\", yes )\n",
        "print(\"No Count is:\", no)\n",
        "print(\"Mainbranch Values is \", mainbranch)"
      ],
      "execution_count": null,
      "outputs": [
        {
          "output_type": "stream",
          "text": [
            "Yes Count is : [51543, 8513, 5801, 3331, 1244]\n",
            "No Count is: [13563, 1665, 1671, None, 334]\n",
            "Mainbranch Values is  ['I am a developer by profession', 'I am a student who is learning to code', 'I am not primarily a developer, but I write code sometimes as part of my work', 'I code primarily as a hobby', 'I used to be a developer by profession, but no longer am']\n"
          ],
          "name": "stdout"
        }
      ]
    },
    {
      "cell_type": "code",
      "metadata": {
        "colab": {
          "base_uri": "https://localhost:8080/"
        },
        "id": "WCWwLreBWf2D",
        "outputId": "8d16237e-6841-4277-a334-e265ad136fae"
      },
      "source": [
        "plt.rcParams[\"figure.figsize\"] = (15,8)\n",
        "graph_df = pd.DataFrame({\"Yes\":yes,\"No\":no})\n",
        "ax = graph_df.plot.bar(color=[\"SkyBlue\",\"IndianRed\"])\n",
        "ax.set_title(label=\"MainBranch and Hobbyist Plot\", fontsize = 30)\n",
        "ax.set_xlabel(\"MainBranch\", fontsize = 20)\n",
        "ax.set_ylabel(\"Counts\", fontsize = 20)\n",
        "ax.set_xticklabels(mainbranch,rotation = 90)\n",
        "plt.show()"
      ],
      "execution_count": null,
      "outputs": [
        {
          "output_type": "display_data",
          "data": {
            "image/png": "[encoded data removed]",
            "text/plain": [
              "<Figure size 1080x576 with 1 Axes>"
            ]
          },
          "metadata": {
            "tags": [],
            "needs_background": "light"
          }
        }
      ]
    },
    {
      "cell_type": "code",
      "metadata": {
        "colab": {
          "base_uri": "https://localhost:8080/"
        },
        "id": "f1jOJpv3WgXV",
        "outputId": "536a1193-df75-412c-b919-404ed4d355de"
      },
      "source": [
        "df1 = df.Country.value_counts()\n",
        "# df1 = df1[df1 > 1000]\n",
        "df2 =  df1.head(10)\n",
        "ax = df2.plot.bar()\n",
        "ax.set_title(label= \"Top 10 Countries from where people responded to the survey\", fontsize = 20)\n",
        "ax.set_xlabel(\"Country Names\", fontsize = 15)\n",
        "ax.set_ylabel(\"Number of people who responded\", fontsize = 15)\n",
        "plt.show()"
      ],
      "execution_count": null,
      "outputs": [
        {
          "output_type": "display_data",
          "data": {
            "image/png": "[encoded data removed]",
            "text/plain": [
              "<Figure size 1080x576 with 1 Axes>"
            ]
          },
          "metadata": {
            "tags": [],
            "needs_background": "light"
          }
        }
      ]
    },
    {
      "cell_type": "code",
      "metadata": {
        "colab": {
          "base_uri": "https://localhost:8080/"
        },
        "id": "owlY8nIshp_x",
        "outputId": "e6febda4-d77d-4de4-d753-be662731b859"
      },
      "source": [
        "df1 =  df.Student.value_counts()\n",
        "ax = df1.plot.bar()\n",
        "ax.set_title(\"Students Or Not\", fontsize =20)\n",
        "ax.set_xlabel(\"Category Of People\",fontsize = 15)\n",
        "ax.set_ylabel(\"Count\",fontsize = 15)\n",
        "plt.grid(linestyle='-',color = 'black')\n",
        "plt.show()"
      ],
      "execution_count": null,
      "outputs": [
        {
          "output_type": "display_data",
          "data": {
            "image/png": "[encoded data removed]",
            "text/plain": [
              "<Figure size 1080x576 with 1 Axes>"
            ]
          },
          "metadata": {
            "tags": [],
            "needs_background": "light"
          }
        }
      ]
    },
    {
      "cell_type": "code",
      "metadata": {
        "colab": {
          "base_uri": "https://localhost:8080/"
        },
        "id": "hw37z6I3DHzM",
        "outputId": "c5235ea8-892c-4d2e-87dd-e652ab1cde2e"
      },
      "source": [
        "df1 = df.EdLevel.value_counts()\n",
        "print(df1)"
      ],
      "execution_count": null,
      "outputs": [
        {
          "output_type": "stream",
          "text": [
            "Bachelor’s degree (BA, BS, B.Eng., etc.)                                              38899\n",
            "Master’s degree (MA, MS, M.Eng., MBA, etc.)                                           19401\n",
            "Some college/university study without earning a degree                                10403\n",
            "Secondary school (e.g. American high school, German Realschule or Gymnasium, etc.)     8588\n",
            "Associate degree                                                                       2914\n",
            "Other doctoral degree (Ph.D, Ed.D., etc.)                                              2411\n",
            "Primary/elementary school                                                              1411\n",
            "Professional degree (JD, MD, etc.)                                                     1188\n",
            "I never completed any formal education                                                  539\n",
            "Name: EdLevel, dtype: int64\n"
          ],
          "name": "stdout"
        }
      ]
    },
    {
      "cell_type": "code",
      "metadata": {
        "colab": {
          "base_uri": "https://localhost:8080/"
        },
        "id": "47YeN_MITGFK",
        "outputId": "b3c59d94-3836-4a4c-c316-566d946c7a51"
      },
      "source": [
        "list = np.linspace(5000,50000,10)\n",
        "df1 = df.UndergradMajor.value_counts()\n",
        "ax = df1.plot.bar()\n",
        "ax.set_title(\"Undergraduation Details\", fontsize =20)\n",
        "ax.set_xlabel(\"Courses\",fontsize = 15)\n",
        "ax.set_ylabel(\"Count\",fontsize = 15)\n",
        "ax.set_yticks(list)\n",
        "plt.show()\n"
      ],
      "execution_count": null,
      "outputs": [
        {
          "output_type": "display_data",
          "data": {
            "image/png": "[encoded data removed]",
            "text/plain": [
              "<Figure size 1080x576 with 1 Axes>"
            ]
          },
          "metadata": {
            "tags": [],
            "needs_background": "light"
          }
        }
      ]
    },
    {
      "cell_type": "code",
      "metadata": {
        "colab": {
          "base_uri": "https://localhost:8080/"
        },
        "id": "nD8xOt8ZTRAe",
        "outputId": "b10c3ca8-0b41-485d-fc1e-43b9b25fab33"
      },
      "source": [
        "df1 = df.Gender.value_counts()\n",
        "list = np.arange(0,85000,5000)\n",
        "ax = df1.plot.bar()\n",
        "ax.set_title(\"Gender Details\", fontsize =20)\n",
        "ax.set_xlabel(\"Gender\",fontsize = 15)\n",
        "ax.set_ylabel(\"Count\",fontsize = 15)    \n",
        "ax.set_yticks(list)\n",
        "plt.grid()\n",
        "plt.show()"
      ],
      "execution_count": null,
      "outputs": [
        {
          "output_type": "display_data",
          "data": {
            "image/png": "[encoded data removed]",
            "text/plain": [
              "<Figure size 1080x576 with 1 Axes>"
            ]
          },
          "metadata": {
            "tags": [],
            "needs_background": "light"
          }
        }
      ]
    },
    {
      "cell_type": "markdown",
      "metadata": {
        "id": "rZEcAQAx5NQn"
      },
      "source": [
        "## **Questions and Answers**"
      ]
    },
    {
      "cell_type": "markdown",
      "metadata": {
        "id": "qyL6AAroHo38"
      },
      "source": [
        "## **Question 1**"
      ]
    },
    {
      "cell_type": "markdown",
      "metadata": {
        "id": "EL3Y7xzK6LWE"
      },
      "source": [
        "**What is the percentage of people who really like their job?**\n",
        "For this, we make use of the two columns \"MainBranch\" and \"Hobbyist\". We then find out the people who keyed in Yes for Hobbyist and are working. We use the calculations made for the Hobbyist vs MainBranch Plot."
      ]
    },
    {
      "cell_type": "code",
      "metadata": {
        "colab": {
          "base_uri": "https://localhost:8080/"
        },
        "id": "xqiP_36uUl9X",
        "outputId": "5b345132-28d2-4608-8d37-6aae248dedb2"
      },
      "source": [
        "hobby = graph_df.Yes.tolist()[0]\n",
        "nothobby = graph_df.No.tolist()[0]\n",
        "Percentage = (hobby/(hobby + nothobby))*100\n",
        "print(\"The percentage of people who are software professionals and also find it as a hobby are {}\" .format(round(Percentage,2)))"
      ],
      "execution_count": null,
      "outputs": [
        {
          "output_type": "stream",
          "text": [
            "The percentage of people who are software professionals and also find it as a hobby are 79.17\n"
          ],
          "name": "stdout"
        }
      ]
    },
    {
      "cell_type": "markdown",
      "metadata": {
        "id": "cFweKspjHuC7"
      },
      "source": [
        "## **Question 2**"
      ]
    },
    {
      "cell_type": "markdown",
      "metadata": {
        "id": "Vn9nXPi1DUkz"
      },
      "source": [
        "### **Is there any relation between Age and whether a person likes a field**\n",
        "We use a scatter plot to find the required relation "
      ]
    },
    {
      "cell_type": "code",
      "metadata": {
        "colab": {
          "base_uri": "https://localhost:8080/"
        },
        "id": "_64C9Tj16K1j",
        "outputId": "888f5ee4-6dee-4508-c0fc-58fd104fb0ac"
      },
      "source": [
        "plt.rcParams[\"figure.figsize\"] = (10,10)\n",
        "data = [df.Hobbyist, df.Age]\n",
        "headers = [\"Hobbyist\", \"Age\"]\n",
        "df1 = pd.concat(data, axis=1, keys=headers)\n",
        "plt.scatter(df1.Hobbyist,df1.Age)\n",
        "plt.title(\"Age vs Hobby Scatter Plot\", fontsize = 20)\n",
        "plt.xlabel(\"Hobbyist\", fontsize = 15)\n",
        "plt.ylabel(\"Age\", fontsize = 15)\n",
        "plt.show()"
      ],
      "execution_count": null,
      "outputs": [
        {
          "output_type": "display_data",
          "data": {
            "image/png": "[encoded data removed]",
            "text/plain": [
              "<Figure size 720x720 with 1 Axes>"
            ]
          },
          "metadata": {
            "tags": [],
            "needs_background": "light"
          }
        }
      ]
    },
    {
      "cell_type": "markdown",
      "metadata": {
        "id": "gXiVukb9cNS4"
      },
      "source": [
        "There appears to be no direct relation between age and hobby."
      ]
    },
    {
      "cell_type": "markdown",
      "metadata": {
        "id": "Rm-w8wc8-PjX"
      },
      "source": [
        "## **Question 3**"
      ]
    },
    {
      "cell_type": "markdown",
      "metadata": {
        "id": "enYxqtLM-gwW"
      },
      "source": [
        "### **Is there any relation between workweek hours and job satisfaction?**"
      ]
    },
    {
      "cell_type": "code",
      "metadata": {
        "colab": {
          "base_uri": "https://localhost:8080/"
        },
        "id": "ughbeMd_XC8c",
        "outputId": "55e4744a-b5e7-41fc-a066-93d7b338b208"
      },
      "source": [
        "df1.drop(columns = ['Hobbyist', 'Age'])\n",
        "df1['Job Satisfaction'] = df['JobSat']\n",
        "df1['Work Week Hrs'] = df['WorkWeekHrs']\n",
        "df1.dropna(inplace = True, how = 'any')\n",
        "len(df1.index)"
      ],
      "execution_count": null,
      "outputs": [
        {
          "output_type": "execute_result",
          "data": {
            "text/plain": [
              "59899"
            ]
          },
          "metadata": {
            "tags": []
          },
          "execution_count": 37
        }
      ]
    },
    {
      "cell_type": "code",
      "metadata": {
        "colab": {
          "base_uri": "https://localhost:8080/"
        },
        "id": "fiY9vHDVr0qU",
        "outputId": "2fc7b65e-1cf2-4816-be8a-339a0afbe125"
      },
      "source": [
        "plt.rcParams[\"figure.figsize\"] = (15,8)\n",
        "xtick = np.arange(0,80,5)\n",
        "sns.violinplot(x=df1['Work Week Hrs'],y=df1['Job Satisfaction'] ,data=df1, palette='rainbow', )\n",
        "plt.xticks(xtick)\n",
        "plt.title(\"Work Week Hours vs Job Satisfaction \")\n",
        "plt.show()"
      ],
      "execution_count": null,
      "outputs": [
        {
          "output_type": "display_data",
          "data": {
            "image/png": "[encoded data removed]",
            "text/plain": [
              "<Figure size 1080x576 with 1 Axes>"
            ]
          },
          "metadata": {
            "tags": [],
            "needs_background": "light"
          }
        }
      ]
    },
    {
      "cell_type": "markdown",
      "metadata": {
        "id": "AmsQqZLScmbZ"
      },
      "source": [
        "Almost all of the Job Satisfaction groups have an identical graph."
      ]
    },
    {
      "cell_type": "markdown",
      "metadata": {
        "id": "CfKmmQbFH7h4"
      },
      "source": [
        "## **Question 4** "
      ]
    },
    {
      "cell_type": "markdown",
      "metadata": {
        "id": "4JqmwEr7IELD"
      },
      "source": [
        "### **Which country has the highest number of female participants in the survey ?**"
      ]
    },
    {
      "cell_type": "code",
      "metadata": {
        "colab": {
          "base_uri": "https://localhost:8080/"
        },
        "id": "oCcIi5sxhuzE",
        "outputId": "9b4db76d-dcac-4941-c92f-7e20ed49c093"
      },
      "source": [
        "df1 = pd.DataFrame()\n",
        "df1 = df.Country.value_counts()\n",
        "df1.head(10)"
      ],
      "execution_count": null,
      "outputs": [
        {
          "output_type": "execute_result",
          "data": {
            "text/plain": [
              "United States     20910\n",
              "India              9024\n",
              "Germany            5838\n",
              "United Kingdom     5724\n",
              "Canada             3382\n",
              "France             2379\n",
              "Brazil             1932\n",
              "Australia          1900\n",
              "Poland             1860\n",
              "Netherlands        1849\n",
              "Name: Country, dtype: int64"
            ]
          },
          "metadata": {
            "tags": []
          },
          "execution_count": 39
        }
      ]
    },
    {
      "cell_type": "code",
      "metadata": {
        "id": "TYo8hLjBIpCn"
      },
      "source": [
        "df1 = pd.DataFrame()\n",
        "df1 = df.groupby(df.Country)\n",
        "woman = []\n",
        "country =  []\n",
        "for x,y in df1:\n",
        "  inner_df = y['Gender'].value_counts()\n",
        "  woman.append(inner_df.get('Woman'))\n",
        "  country.append(x)\n",
        "df2 = pd.DataFrame(zip(country,woman), columns = ['Country','Woman'])\n",
        "df2.sort_values(by = ['Woman'], inplace = True, ascending = False)\n",
        "df2 = df2.head(10)\n",
        "country = df2.Country.to_list()"
      ],
      "execution_count": null,
      "outputs": []
    },
    {
      "cell_type": "code",
      "metadata": {
        "colab": {
          "base_uri": "https://localhost:8080/"
        },
        "id": "_k5tpK4RFSZq",
        "outputId": "2e4a6e19-ce19-4607-c0c0-3e52bb38e312"
      },
      "source": [
        "plt.rcParams['figure.figsize'] = (20,8)\n",
        "df2.plot.bar() \n",
        "plt.title(\"Top 10 countries with highest number of female participants\", fontsize = 20)\n",
        "plt.xlabel(\"Country\", fontsize = 15)\n",
        "plt.ylabel(\"Count\", fontsize = 15)\n",
        "tickvalues = np.arange(0,10,1)\n",
        "plt.grid()\n",
        "plt.xticks(ticks = tickvalues ,labels = country, rotation = 'vertical')\n",
        "plt.show()"
      ],
      "execution_count": null,
      "outputs": [
        {
          "output_type": "display_data",
          "data": {
            "image/png": "[encoded data removed]",
            "text/plain": [
              "<Figure size 1440x576 with 1 Axes>"
            ]
          },
          "metadata": {
            "tags": [],
            "needs_background": "light"
          }
        }
      ]
    },
    {
      "cell_type": "markdown",
      "metadata": {
        "id": "lAC5PPrjhnov"
      },
      "source": [
        "USA and India are the countries from where most number of females have participated in the survey. The 3rd spot goes to the U.K. as opposed to Germany as Germany had the 3rd most number of people participating. Canada moved one place up and Germany finished at the 5th position. France, Australia, Netherlands, Poland and Romania rounded the top 10 list."
      ]
    },
    {
      "cell_type": "markdown",
      "metadata": {
        "id": "7w4ovYKBDEO0"
      },
      "source": [
        "## **Question 5**"
      ]
    },
    {
      "cell_type": "markdown",
      "metadata": {
        "id": "kdLQ0ImjC9oI"
      },
      "source": [
        "### **Which countries have the highest working hours per week?**\n",
        "Considering countries with more than 300 responses only"
      ]
    },
    {
      "cell_type": "code",
      "metadata": {
        "colab": {
          "base_uri": "https://localhost:8080/"
        },
        "id": "NnjWSwhdDgcr",
        "outputId": "3dfb8b15-e77a-445b-998b-f3a51b56b491"
      },
      "source": [
        "df1 = pd.DataFrame()\n",
        "df2= pd.DataFrame()\n",
        "inner_df = pd.DataFrame()\n",
        "df1 = df.groupby('Country')[['WorkWeekHrs']].mean().sort_values('WorkWeekHrs', ascending=False)\n",
        "df1 = df1.loc[df.Country.value_counts() > 300]\n",
        "df1 = df1.head(10)\n",
        "df1.head()\n",
        "# index = np.arange(0,10,1)\n",
        "# df1[\"Index\"] = index\n",
        "# df1"
      ],
      "execution_count": null,
      "outputs": [
        {
          "output_type": "execute_result",
          "data": {
            "text/html": [
              "<div>\n",
              "<style scoped>\n",
              "    .dataframe tbody tr th:only-of-type {\n",
              "        vertical-align: middle;\n",
              "    }\n",
              "\n",
              "    .dataframe tbody tr th {\n",
              "        vertical-align: top;\n",
              "    }\n",
              "\n",
              "    .dataframe thead th {\n",
              "        text-align: right;\n",
              "    }\n",
              "</style>\n",
              "<table border=\"1\" class=\"dataframe\">\n",
              "  <thead>\n",
              "    <tr style=\"text-align: right;\">\n",
              "      <th></th>\n",
              "      <th>WorkWeekHrs</th>\n",
              "    </tr>\n",
              "    <tr>\n",
              "      <th>Country</th>\n",
              "      <th></th>\n",
              "    </tr>\n",
              "  </thead>\n",
              "  <tbody>\n",
              "    <tr>\n",
              "      <th>China</th>\n",
              "      <td>44.306118</td>\n",
              "    </tr>\n",
              "    <tr>\n",
              "      <th>Iran</th>\n",
              "      <td>43.603448</td>\n",
              "    </tr>\n",
              "    <tr>\n",
              "      <th>Israel</th>\n",
              "      <td>43.198698</td>\n",
              "    </tr>\n",
              "    <tr>\n",
              "      <th>United States</th>\n",
              "      <td>42.024425</td>\n",
              "    </tr>\n",
              "    <tr>\n",
              "      <th>Singapore</th>\n",
              "      <td>41.833659</td>\n",
              "    </tr>\n",
              "  </tbody>\n",
              "</table>\n",
              "</div>"
            ],
            "text/plain": [
              "               WorkWeekHrs\n",
              "Country                   \n",
              "China            44.306118\n",
              "Iran             43.603448\n",
              "Israel           43.198698\n",
              "United States    42.024425\n",
              "Singapore        41.833659"
            ]
          },
          "metadata": {
            "tags": []
          },
          "execution_count": 42
        }
      ]
    },
    {
      "cell_type": "code",
      "metadata": {
        "colab": {
          "base_uri": "https://localhost:8080/"
        },
        "id": "4z_h3Bl0DggF",
        "outputId": "10ce5037-3219-4902-8aa5-b013bd6bf827"
      },
      "source": [
        "df1.plot.bar()\n",
        "plt.ylim(40,45)"
      ],
      "execution_count": null,
      "outputs": [
        {
          "output_type": "execute_result",
          "data": {
            "text/plain": [
              "(40.0, 45.0)"
            ]
          },
          "metadata": {
            "tags": []
          },
          "execution_count": 43
        },
        {
          "output_type": "display_data",
          "data": {
            "image/png": "[encoded data removed]",
            "text/plain": [
              "<Figure size 1440x576 with 1 Axes>"
            ]
          },
          "metadata": {
            "tags": [],
            "needs_background": "light"
          }
        }
      ]
    },
    {
      "cell_type": "markdown",
      "metadata": {
        "id": "TBntqkzFpxUn"
      },
      "source": [
        "Almost all of the top 10 countries having higher working work hours fall into the 40-45 hr per week bracket."
      ]
    },
    {
      "cell_type": "markdown",
      "metadata": {
        "id": "Az6KbJ7rZ0ZJ"
      },
      "source": [
        "## **Question 6**"
      ]
    },
    {
      "cell_type": "markdown",
      "metadata": {
        "id": "rAPIOyukEtKa"
      },
      "source": [
        "### **Which countries have the least average age of people who fall under the youth category ?** We consider people falling above 15 and under 30 as the youth population. Also we will consider people from countries with a minimum of 500 responses. This information will tell in which countries have potential long term users of StackOverflow."
      ]
    },
    {
      "cell_type": "code",
      "metadata": {
        "colab": {
          "base_uri": "https://localhost:8080/"
        },
        "id": "8ePo7mIjGGd6",
        "outputId": "228bb9df-b47e-4014-b58f-4e8ed2168fb3"
      },
      "source": [
        "df1 = pd.DataFrame()\n",
        "data = [df.Country, df.Age]\n",
        "headers = ['Country', 'Age']\n",
        "df1 = pd.concat(data, axis=1, keys=headers)\n",
        "df1 = df1.loc[(df1.Age >= 15) & (df1.Age <= 30)]\n",
        "print(len(df1.index))\n",
        "counts = df1['Country'].value_counts()\n",
        "df1 = df1.loc[df1['Country'].isin(counts.index[counts > 499])]\n",
        "print(len(df1.index))\n",
        "df1.describe()\n",
        "# The data in df1 now consists of people in the age bracket of 15-30 years."
      ],
      "execution_count": null,
      "outputs": [
        {
          "output_type": "stream",
          "text": [
            "46732\n",
            "33031\n"
          ],
          "name": "stdout"
        },
        {
          "output_type": "execute_result",
          "data": {
            "text/html": [
              "<div>\n",
              "<style scoped>\n",
              "    .dataframe tbody tr th:only-of-type {\n",
              "        vertical-align: middle;\n",
              "    }\n",
              "\n",
              "    .dataframe tbody tr th {\n",
              "        vertical-align: top;\n",
              "    }\n",
              "\n",
              "    .dataframe thead th {\n",
              "        text-align: right;\n",
              "    }\n",
              "</style>\n",
              "<table border=\"1\" class=\"dataframe\">\n",
              "  <thead>\n",
              "    <tr style=\"text-align: right;\">\n",
              "      <th></th>\n",
              "      <th>Age</th>\n",
              "    </tr>\n",
              "  </thead>\n",
              "  <tbody>\n",
              "    <tr>\n",
              "      <th>count</th>\n",
              "      <td>33031.000000</td>\n",
              "    </tr>\n",
              "    <tr>\n",
              "      <th>mean</th>\n",
              "      <td>24.738040</td>\n",
              "    </tr>\n",
              "    <tr>\n",
              "      <th>std</th>\n",
              "      <td>3.625243</td>\n",
              "    </tr>\n",
              "    <tr>\n",
              "      <th>min</th>\n",
              "      <td>15.000000</td>\n",
              "    </tr>\n",
              "    <tr>\n",
              "      <th>25%</th>\n",
              "      <td>22.000000</td>\n",
              "    </tr>\n",
              "    <tr>\n",
              "      <th>50%</th>\n",
              "      <td>25.000000</td>\n",
              "    </tr>\n",
              "    <tr>\n",
              "      <th>75%</th>\n",
              "      <td>28.000000</td>\n",
              "    </tr>\n",
              "    <tr>\n",
              "      <th>max</th>\n",
              "      <td>30.000000</td>\n",
              "    </tr>\n",
              "  </tbody>\n",
              "</table>\n",
              "</div>"
            ],
            "text/plain": [
              "                Age\n",
              "count  33031.000000\n",
              "mean      24.738040\n",
              "std        3.625243\n",
              "min       15.000000\n",
              "25%       22.000000\n",
              "50%       25.000000\n",
              "75%       28.000000\n",
              "max       30.000000"
            ]
          },
          "metadata": {
            "tags": []
          },
          "execution_count": 44
        }
      ]
    },
    {
      "cell_type": "code",
      "metadata": {
        "colab": {
          "base_uri": "https://localhost:8080/"
        },
        "id": "CQRiv-RMKa3v",
        "outputId": "55cd596f-3af7-4d89-9321-1b2c45ffd690"
      },
      "source": [
        "df1.groupby('Country')['Age'].mean().sort_values(ascending = True)\n",
        "# This query gives us the countries with least average age of people who fall under the youth category "
      ],
      "execution_count": null,
      "outputs": [
        {
          "output_type": "execute_result",
          "data": {
            "text/plain": [
              "Country\n",
              "Switzerland           24.095808\n",
              "Pakistan              24.107751\n",
              "Italy                 24.338643\n",
              "India                 24.399003\n",
              "Netherlands           24.497482\n",
              "Germany               24.505159\n",
              "Australia             24.624041\n",
              "Brazil                24.655395\n",
              "Canada                24.698597\n",
              "United Kingdom        24.708639\n",
              "Turkey                24.735348\n",
              "France                24.873145\n",
              "Russian Federation    25.020325\n",
              "Poland                25.028294\n",
              "United States         25.057780\n",
              "Sweden                25.154696\n",
              "Spain                 25.349734\n",
              "Name: Age, dtype: float64"
            ]
          },
          "metadata": {
            "tags": []
          },
          "execution_count": 45
        }
      ]
    },
    {
      "cell_type": "markdown",
      "metadata": {
        "id": "a1wV4id_rRi_"
      },
      "source": [
        "### **Thus, this exploratory data analysis answers questions regarding job satisfaction, women and youth in the tech industry.**"
      ]
    }
  ]
}